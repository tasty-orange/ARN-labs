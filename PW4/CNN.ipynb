{
 "cells": [
  {
   "cell_type": "markdown",
   "metadata": {
    "id": "HkLUJVa1bfNW"
   },
   "source": [
    "# Convolutional Neural Networks\n",
    "This notebook will guide you through the use of the `keras` package to train convolutional neural networks for handwritten digits classification. You are going to use the `mnist` dataset from LeCun et al. 1998."
   ]
  },
  {
   "cell_type": "markdown",
   "metadata": {
    "id": "SjQUQygFbfNb"
   },
   "source": [
    "## Loading the packages"
   ]
  },
  {
   "cell_type": "code",
   "metadata": {
    "id": "h7O8MewabfNj",
    "ExecuteTime": {
     "end_time": "2025-05-04T14:39:37.308395Z",
     "start_time": "2025-05-04T14:39:32.979982Z"
    }
   },
   "source": [
    "#%pip install tensorflow --upgrade\n",
    "#%pip install keras --upgrade\n",
    "\n",
    "import numpy as np\n",
    "from matplotlib import pyplot as pl\n",
    "\n",
    "from tensorflow.keras.datasets import mnist\n",
    "from tensorflow.keras.models import Model\n",
    "from tensorflow.keras.layers import Dense, Dropout, Flatten, Conv2D, MaxPooling2D\n",
    "from tensorflow.keras.optimizers import RMSprop\n",
    "from tensorflow.keras.utils import to_categorical\n",
    "from tensorflow.keras.layers import Input\n",
    "from scipy import stats\n",
    "\n",
    "from sklearn.metrics import confusion_matrix\n",
    "import seaborn as sns\n",
    "import matplotlib.pyplot as plt\n",
    "from sklearn.metrics import f1_score\n",
    "\n",
    "from tensorflow.keras.layers import GlobalAveragePooling2D\n",
    "\n",
    "from tensorflow.keras.layers import (\n",
    "    Input, Conv2D, MaxPooling2D, Flatten, Dense,\n",
    "    BatchNormalization, LeakyReLU, Dropout\n",
    ")\n",
    "\n",
    "%matplotlib inline"
   ],
   "outputs": [],
   "execution_count": 2
  },
  {
   "cell_type": "markdown",
   "metadata": {
    "id": "vbttXt8SbfOH"
   },
   "source": [
    "First, create some useful functions"
   ]
  },
  {
   "cell_type": "code",
   "metadata": {
    "id": "jAR9jPgybfOO",
    "ExecuteTime": {
     "end_time": "2025-05-04T14:39:39.181613Z",
     "start_time": "2025-05-04T14:39:39.174618Z"
    }
   },
   "source": [
    "def build_grid_of_images(array):\n",
    "    assert len(array.shape) == 3\n",
    "    dim_0 = np.sqrt(array.shape[0])\n",
    "    assert dim_0.is_integer()\n",
    "\n",
    "    temp_out = np.reshape(array, (dim_0, dim_0, array.shape[1], array.shape[2]))\n",
    "    temp_out = np.rollaxis(temp_out, 1, 3)\n",
    "    return np.reshape(temp_out, (dim_0*array.shape[1], dim_0*array.shape[2]))\n",
    "\n",
    "def plot_conv_layer_output(temp_out, title):\n",
    "    temp_to_plot = build_grid_of_images(temp_out)\n",
    "    pl.imshow(temp_to_plot, interpolation='nearest', cmap=pl.get_cmap('Greys'))\n",
    "    ax = pl.gca()\n",
    "    ax.set_xticks(np.arange(-0.5, temp_to_plot.shape[0]+0.5, temp_out.shape[1]))\n",
    "    ax.set_yticks(np.arange(-0.5, temp_to_plot.shape[0]+0.5, temp_out.shape[2]))\n",
    "    pl.grid()\n",
    "    pl.tick_params(axis='both', which='both', bottom='off', top='off', left='off', right='off', labelbottom='off', labelleft='off')\n",
    "    pl.title(title)\n",
    "\n",
    "def plot_dense_layer_output(temp_out, title):\n",
    "    pl.bar(np.arange(temp_out.shape[1])-0.4, temp_out[0,:])\n",
    "    pl.xlim(-0.5, temp_out.shape[1])\n",
    "    pl.grid()\n",
    "    pl.title(title)"
   ],
   "outputs": [],
   "execution_count": 3
  },
  {
   "cell_type": "markdown",
   "metadata": {
    "id": "3fVOW4jGbfOb"
   },
   "source": [
    "Load the `mnist` dataset and normalize in the range [0, 1]"
   ]
  },
  {
   "cell_type": "code",
   "metadata": {
    "colab": {
     "base_uri": "https://localhost:8080/"
    },
    "id": "2H2K3S4MbfOf",
    "outputId": "dbfba675-2333-42fb-d94a-00129dce2ce3",
    "ExecuteTime": {
     "end_time": "2025-05-04T14:39:42.434306Z",
     "start_time": "2025-05-04T14:39:42.034028Z"
    }
   },
   "source": [
    "(X_train, y_train), (X_test, y_test) = mnist.load_data()\n",
    "\n",
    "n_train, height, width = X_train.shape\n",
    "n_test, _, _ = X_test.shape\n",
    "\n",
    "X_train = X_train.reshape(n_train, height, width, 1).astype('float32')\n",
    "X_test = X_test.reshape(n_test, height, width, 1).astype('float32')\n",
    "\n",
    "X_train /= 255.0\n",
    "X_test /= 255.0\n",
    "\n",
    "n_classes = 10\n",
    "\n",
    "print(n_train, 'train samples')\n",
    "print(n_test, 'test samples')\n",
    "\n",
    "# convert class vectors to binary class matrices\n",
    "Y_train = to_categorical(y_train, n_classes)\n",
    "Y_test = to_categorical(y_test, n_classes)"
   ],
   "outputs": [
    {
     "name": "stdout",
     "output_type": "stream",
     "text": [
      "60000 train samples\n",
      "10000 test samples\n"
     ]
    }
   ],
   "execution_count": 4
  },
  {
   "cell_type": "code",
   "metadata": {
    "colab": {
     "base_uri": "https://localhost:8080/"
    },
    "id": "4xhDKC7zWFgw",
    "outputId": "9f5e27bf-1c1b-4c61-ac64-226247c2e53d",
    "ExecuteTime": {
     "end_time": "2025-05-04T14:39:44.095151Z",
     "start_time": "2025-05-04T14:39:44.089154Z"
    }
   },
   "source": [
    "print('X_train.shape = ', X_train.shape)\n",
    "print('Y_train.shape = ', Y_train.shape)\n",
    "print('X_test.shape = ', X_test.shape)\n",
    "print('Y_test.shape = ', Y_test.shape)"
   ],
   "outputs": [
    {
     "name": "stdout",
     "output_type": "stream",
     "text": [
      "X_train.shape =  (60000, 28, 28, 1)\n",
      "Y_train.shape =  (60000, 10)\n",
      "X_test.shape =  (10000, 28, 28, 1)\n",
      "Y_test.shape =  (10000, 10)\n"
     ]
    }
   ],
   "execution_count": 5
  },
  {
   "cell_type": "markdown",
   "metadata": {
    "id": "2B-WNiQUbfOq"
   },
   "source": [
    "Create the CNN and show its architecture"
   ]
  },
  {
   "cell_type": "code",
   "metadata": {
    "colab": {
     "base_uri": "https://localhost:8080/",
     "height": 449
    },
    "id": "yhOscSNPbfOt",
    "outputId": "bf83179e-5688-46b8-a94f-e83c78c2d295",
    "ExecuteTime": {
     "end_time": "2025-05-04T14:39:45.766088Z",
     "start_time": "2025-05-04T14:39:45.623240Z"
    }
   },
   "source": [
    "#l0 = Input(shape=(height, width, 1), name='l0')\n",
    "#l1 = Conv2D(2, (2, 2), padding='same', activation='relu', name='l1')(l0)\n",
    "#l1_mp = MaxPooling2D(pool_size=(2, 2), name='l1_mp')(l1)\n",
    "#l2 = Conv2D(2, (2, 2), padding='same', activation='relu', name='l2')(l1_mp)\n",
    "#l2_mp = MaxPooling2D(pool_size=(2, 2), name='l2_mp')(l2)\n",
    "#l3 = Conv2D(2, (2, 2), padding='same', activation='relu', name='l3')(l2_mp)\n",
    "#l3_mp = MaxPooling2D(pool_size=(2, 2), name='l3_mp')(l3)\n",
    "#flat = Flatten(name='flat')(l3_mp)\n",
    "#l4 = Dense(2, activation='relu', name='l4')(flat)\n",
    "#l5 = Dense(n_classes, activation='softmax', name='l5')(l4)\n",
    "\n",
    "#l0 = Input(shape=(height, width, 1), name='l0')\n",
    "#l1 = Conv2D(2, (3, 3), padding='same', activation='relu', name='l1')(l0)\n",
    "#l1_mp = MaxPooling2D(pool_size=(2, 2), name='l1_mp')(l1)\n",
    "#flat = Flatten(name='flat')(l1_mp)\n",
    "#l4 = Dense(8, activation='relu', name='l4')(flat)\n",
    "#l5 = Dense(n_classes, activation='softmax', name='l5')(l4)\n",
    "\n",
    "l0 = Input(shape=(height, width, 1), name='l0')\n",
    "l1 = Conv2D(4, (3, 3), padding='same', activation='relu', name='l1')(l0)\n",
    "l1_mp = MaxPooling2D(pool_size=(2, 2), name='l1_mp')(l1)\n",
    "l2 = Conv2D(8, (3, 3), padding='same', activation='relu', name='l2')(l1_mp)\n",
    "l2_mp = MaxPooling2D(pool_size=(2, 2), name='l2_mp')(l2)\n",
    "flat = Flatten(name='flat')(l2_mp)\n",
    "l4 = Dense(16, activation='relu', name='l4')(flat)\n",
    "l5 = Dense(n_classes, activation='softmax', name='l5')(l4)\n",
    "\n",
    "model = Model(inputs=l0, outputs=l5)\n",
    "model.summary()"
   ],
   "outputs": [
    {
     "data": {
      "text/plain": [
       "\u001B[1mModel: \"functional\"\u001B[0m\n"
      ],
      "text/html": [
       "<pre style=\"white-space:pre;overflow-x:auto;line-height:normal;font-family:Menlo,'DejaVu Sans Mono',consolas,'Courier New',monospace\"><span style=\"font-weight: bold\">Model: \"functional\"</span>\n",
       "</pre>\n"
      ]
     },
     "metadata": {},
     "output_type": "display_data"
    },
    {
     "data": {
      "text/plain": [
       "┏━━━━━━━━━━━━━━━━━━━━━━━━━━━━━━━━━┳━━━━━━━━━━━━━━━━━━━━━━━━┳━━━━━━━━━━━━━━━┓\n",
       "┃\u001B[1m \u001B[0m\u001B[1mLayer (type)                   \u001B[0m\u001B[1m \u001B[0m┃\u001B[1m \u001B[0m\u001B[1mOutput Shape          \u001B[0m\u001B[1m \u001B[0m┃\u001B[1m \u001B[0m\u001B[1m      Param #\u001B[0m\u001B[1m \u001B[0m┃\n",
       "┡━━━━━━━━━━━━━━━━━━━━━━━━━━━━━━━━━╇━━━━━━━━━━━━━━━━━━━━━━━━╇━━━━━━━━━━━━━━━┩\n",
       "│ l0 (\u001B[38;5;33mInputLayer\u001B[0m)                 │ (\u001B[38;5;45mNone\u001B[0m, \u001B[38;5;34m28\u001B[0m, \u001B[38;5;34m28\u001B[0m, \u001B[38;5;34m1\u001B[0m)      │             \u001B[38;5;34m0\u001B[0m │\n",
       "├─────────────────────────────────┼────────────────────────┼───────────────┤\n",
       "│ l1 (\u001B[38;5;33mConv2D\u001B[0m)                     │ (\u001B[38;5;45mNone\u001B[0m, \u001B[38;5;34m28\u001B[0m, \u001B[38;5;34m28\u001B[0m, \u001B[38;5;34m4\u001B[0m)      │            \u001B[38;5;34m40\u001B[0m │\n",
       "├─────────────────────────────────┼────────────────────────┼───────────────┤\n",
       "│ l1_mp (\u001B[38;5;33mMaxPooling2D\u001B[0m)            │ (\u001B[38;5;45mNone\u001B[0m, \u001B[38;5;34m14\u001B[0m, \u001B[38;5;34m14\u001B[0m, \u001B[38;5;34m4\u001B[0m)      │             \u001B[38;5;34m0\u001B[0m │\n",
       "├─────────────────────────────────┼────────────────────────┼───────────────┤\n",
       "│ l2 (\u001B[38;5;33mConv2D\u001B[0m)                     │ (\u001B[38;5;45mNone\u001B[0m, \u001B[38;5;34m14\u001B[0m, \u001B[38;5;34m14\u001B[0m, \u001B[38;5;34m8\u001B[0m)      │           \u001B[38;5;34m296\u001B[0m │\n",
       "├─────────────────────────────────┼────────────────────────┼───────────────┤\n",
       "│ l2_mp (\u001B[38;5;33mMaxPooling2D\u001B[0m)            │ (\u001B[38;5;45mNone\u001B[0m, \u001B[38;5;34m7\u001B[0m, \u001B[38;5;34m7\u001B[0m, \u001B[38;5;34m8\u001B[0m)        │             \u001B[38;5;34m0\u001B[0m │\n",
       "├─────────────────────────────────┼────────────────────────┼───────────────┤\n",
       "│ flat (\u001B[38;5;33mFlatten\u001B[0m)                  │ (\u001B[38;5;45mNone\u001B[0m, \u001B[38;5;34m392\u001B[0m)            │             \u001B[38;5;34m0\u001B[0m │\n",
       "├─────────────────────────────────┼────────────────────────┼───────────────┤\n",
       "│ l4 (\u001B[38;5;33mDense\u001B[0m)                      │ (\u001B[38;5;45mNone\u001B[0m, \u001B[38;5;34m16\u001B[0m)             │         \u001B[38;5;34m6,288\u001B[0m │\n",
       "├─────────────────────────────────┼────────────────────────┼───────────────┤\n",
       "│ l5 (\u001B[38;5;33mDense\u001B[0m)                      │ (\u001B[38;5;45mNone\u001B[0m, \u001B[38;5;34m10\u001B[0m)             │           \u001B[38;5;34m170\u001B[0m │\n",
       "└─────────────────────────────────┴────────────────────────┴───────────────┘\n"
      ],
      "text/html": [
       "<pre style=\"white-space:pre;overflow-x:auto;line-height:normal;font-family:Menlo,'DejaVu Sans Mono',consolas,'Courier New',monospace\">┏━━━━━━━━━━━━━━━━━━━━━━━━━━━━━━━━━┳━━━━━━━━━━━━━━━━━━━━━━━━┳━━━━━━━━━━━━━━━┓\n",
       "┃<span style=\"font-weight: bold\"> Layer (type)                    </span>┃<span style=\"font-weight: bold\"> Output Shape           </span>┃<span style=\"font-weight: bold\">       Param # </span>┃\n",
       "┡━━━━━━━━━━━━━━━━━━━━━━━━━━━━━━━━━╇━━━━━━━━━━━━━━━━━━━━━━━━╇━━━━━━━━━━━━━━━┩\n",
       "│ l0 (<span style=\"color: #0087ff; text-decoration-color: #0087ff\">InputLayer</span>)                 │ (<span style=\"color: #00d7ff; text-decoration-color: #00d7ff\">None</span>, <span style=\"color: #00af00; text-decoration-color: #00af00\">28</span>, <span style=\"color: #00af00; text-decoration-color: #00af00\">28</span>, <span style=\"color: #00af00; text-decoration-color: #00af00\">1</span>)      │             <span style=\"color: #00af00; text-decoration-color: #00af00\">0</span> │\n",
       "├─────────────────────────────────┼────────────────────────┼───────────────┤\n",
       "│ l1 (<span style=\"color: #0087ff; text-decoration-color: #0087ff\">Conv2D</span>)                     │ (<span style=\"color: #00d7ff; text-decoration-color: #00d7ff\">None</span>, <span style=\"color: #00af00; text-decoration-color: #00af00\">28</span>, <span style=\"color: #00af00; text-decoration-color: #00af00\">28</span>, <span style=\"color: #00af00; text-decoration-color: #00af00\">4</span>)      │            <span style=\"color: #00af00; text-decoration-color: #00af00\">40</span> │\n",
       "├─────────────────────────────────┼────────────────────────┼───────────────┤\n",
       "│ l1_mp (<span style=\"color: #0087ff; text-decoration-color: #0087ff\">MaxPooling2D</span>)            │ (<span style=\"color: #00d7ff; text-decoration-color: #00d7ff\">None</span>, <span style=\"color: #00af00; text-decoration-color: #00af00\">14</span>, <span style=\"color: #00af00; text-decoration-color: #00af00\">14</span>, <span style=\"color: #00af00; text-decoration-color: #00af00\">4</span>)      │             <span style=\"color: #00af00; text-decoration-color: #00af00\">0</span> │\n",
       "├─────────────────────────────────┼────────────────────────┼───────────────┤\n",
       "│ l2 (<span style=\"color: #0087ff; text-decoration-color: #0087ff\">Conv2D</span>)                     │ (<span style=\"color: #00d7ff; text-decoration-color: #00d7ff\">None</span>, <span style=\"color: #00af00; text-decoration-color: #00af00\">14</span>, <span style=\"color: #00af00; text-decoration-color: #00af00\">14</span>, <span style=\"color: #00af00; text-decoration-color: #00af00\">8</span>)      │           <span style=\"color: #00af00; text-decoration-color: #00af00\">296</span> │\n",
       "├─────────────────────────────────┼────────────────────────┼───────────────┤\n",
       "│ l2_mp (<span style=\"color: #0087ff; text-decoration-color: #0087ff\">MaxPooling2D</span>)            │ (<span style=\"color: #00d7ff; text-decoration-color: #00d7ff\">None</span>, <span style=\"color: #00af00; text-decoration-color: #00af00\">7</span>, <span style=\"color: #00af00; text-decoration-color: #00af00\">7</span>, <span style=\"color: #00af00; text-decoration-color: #00af00\">8</span>)        │             <span style=\"color: #00af00; text-decoration-color: #00af00\">0</span> │\n",
       "├─────────────────────────────────┼────────────────────────┼───────────────┤\n",
       "│ flat (<span style=\"color: #0087ff; text-decoration-color: #0087ff\">Flatten</span>)                  │ (<span style=\"color: #00d7ff; text-decoration-color: #00d7ff\">None</span>, <span style=\"color: #00af00; text-decoration-color: #00af00\">392</span>)            │             <span style=\"color: #00af00; text-decoration-color: #00af00\">0</span> │\n",
       "├─────────────────────────────────┼────────────────────────┼───────────────┤\n",
       "│ l4 (<span style=\"color: #0087ff; text-decoration-color: #0087ff\">Dense</span>)                      │ (<span style=\"color: #00d7ff; text-decoration-color: #00d7ff\">None</span>, <span style=\"color: #00af00; text-decoration-color: #00af00\">16</span>)             │         <span style=\"color: #00af00; text-decoration-color: #00af00\">6,288</span> │\n",
       "├─────────────────────────────────┼────────────────────────┼───────────────┤\n",
       "│ l5 (<span style=\"color: #0087ff; text-decoration-color: #0087ff\">Dense</span>)                      │ (<span style=\"color: #00d7ff; text-decoration-color: #00d7ff\">None</span>, <span style=\"color: #00af00; text-decoration-color: #00af00\">10</span>)             │           <span style=\"color: #00af00; text-decoration-color: #00af00\">170</span> │\n",
       "└─────────────────────────────────┴────────────────────────┴───────────────┘\n",
       "</pre>\n"
      ]
     },
     "metadata": {},
     "output_type": "display_data"
    },
    {
     "data": {
      "text/plain": [
       "\u001B[1m Total params: \u001B[0m\u001B[38;5;34m6,794\u001B[0m (26.54 KB)\n"
      ],
      "text/html": [
       "<pre style=\"white-space:pre;overflow-x:auto;line-height:normal;font-family:Menlo,'DejaVu Sans Mono',consolas,'Courier New',monospace\"><span style=\"font-weight: bold\"> Total params: </span><span style=\"color: #00af00; text-decoration-color: #00af00\">6,794</span> (26.54 KB)\n",
       "</pre>\n"
      ]
     },
     "metadata": {},
     "output_type": "display_data"
    },
    {
     "data": {
      "text/plain": [
       "\u001B[1m Trainable params: \u001B[0m\u001B[38;5;34m6,794\u001B[0m (26.54 KB)\n"
      ],
      "text/html": [
       "<pre style=\"white-space:pre;overflow-x:auto;line-height:normal;font-family:Menlo,'DejaVu Sans Mono',consolas,'Courier New',monospace\"><span style=\"font-weight: bold\"> Trainable params: </span><span style=\"color: #00af00; text-decoration-color: #00af00\">6,794</span> (26.54 KB)\n",
       "</pre>\n"
      ]
     },
     "metadata": {},
     "output_type": "display_data"
    },
    {
     "data": {
      "text/plain": [
       "\u001B[1m Non-trainable params: \u001B[0m\u001B[38;5;34m0\u001B[0m (0.00 B)\n"
      ],
      "text/html": [
       "<pre style=\"white-space:pre;overflow-x:auto;line-height:normal;font-family:Menlo,'DejaVu Sans Mono',consolas,'Courier New',monospace\"><span style=\"font-weight: bold\"> Non-trainable params: </span><span style=\"color: #00af00; text-decoration-color: #00af00\">0</span> (0.00 B)\n",
       "</pre>\n"
      ]
     },
     "metadata": {},
     "output_type": "display_data"
    }
   ],
   "execution_count": 6
  },
  {
   "cell_type": "markdown",
   "metadata": {
    "id": "sP_cugPCbfO6"
   },
   "source": [
    "Define some constants and train de CNN"
   ]
  },
  {
   "cell_type": "code",
   "metadata": {
    "colab": {
     "base_uri": "https://localhost:8080/"
    },
    "id": "l8eKqD80bfPB",
    "outputId": "c367c751-91fe-479a-bae7-96b40b067afc",
    "ExecuteTime": {
     "end_time": "2025-05-04T14:41:16.395282Z",
     "start_time": "2025-05-04T14:39:50.736104Z"
    }
   },
   "source": [
    "batch_size = 128\n",
    "n_epoch = 50\n",
    "\n",
    "model.compile(loss='categorical_crossentropy', optimizer=RMSprop(), metrics=['accuracy'])\n",
    "\n",
    "history = model.fit(X_train, Y_train, batch_size=batch_size, epochs=n_epoch, verbose=1, validation_split=0.1)"
   ],
   "outputs": [
    {
     "name": "stdout",
     "output_type": "stream",
     "text": [
      "Epoch 1/50\n",
      "\u001B[1m422/422\u001B[0m \u001B[32m━━━━━━━━━━━━━━━━━━━━\u001B[0m\u001B[37m\u001B[0m \u001B[1m3s\u001B[0m 4ms/step - accuracy: 0.6200 - loss: 1.2797 - val_accuracy: 0.9322 - val_loss: 0.2321\n",
      "Epoch 2/50\n",
      "\u001B[1m422/422\u001B[0m \u001B[32m━━━━━━━━━━━━━━━━━━━━\u001B[0m\u001B[37m\u001B[0m \u001B[1m3s\u001B[0m 6ms/step - accuracy: 0.9271 - loss: 0.2479 - val_accuracy: 0.9675 - val_loss: 0.1233\n",
      "Epoch 3/50\n",
      "\u001B[1m422/422\u001B[0m \u001B[32m━━━━━━━━━━━━━━━━━━━━\u001B[0m\u001B[37m\u001B[0m \u001B[1m2s\u001B[0m 6ms/step - accuracy: 0.9523 - loss: 0.1569 - val_accuracy: 0.9717 - val_loss: 0.0982\n",
      "Epoch 4/50\n",
      "\u001B[1m422/422\u001B[0m \u001B[32m━━━━━━━━━━━━━━━━━━━━\u001B[0m\u001B[37m\u001B[0m \u001B[1m2s\u001B[0m 5ms/step - accuracy: 0.9648 - loss: 0.1155 - val_accuracy: 0.9738 - val_loss: 0.0891\n",
      "Epoch 5/50\n",
      "\u001B[1m422/422\u001B[0m \u001B[32m━━━━━━━━━━━━━━━━━━━━\u001B[0m\u001B[37m\u001B[0m \u001B[1m2s\u001B[0m 5ms/step - accuracy: 0.9706 - loss: 0.0962 - val_accuracy: 0.9787 - val_loss: 0.0770\n",
      "Epoch 6/50\n",
      "\u001B[1m422/422\u001B[0m \u001B[32m━━━━━━━━━━━━━━━━━━━━\u001B[0m\u001B[37m\u001B[0m \u001B[1m2s\u001B[0m 5ms/step - accuracy: 0.9737 - loss: 0.0890 - val_accuracy: 0.9792 - val_loss: 0.0681\n",
      "Epoch 7/50\n",
      "\u001B[1m422/422\u001B[0m \u001B[32m━━━━━━━━━━━━━━━━━━━━\u001B[0m\u001B[37m\u001B[0m \u001B[1m3s\u001B[0m 6ms/step - accuracy: 0.9767 - loss: 0.0748 - val_accuracy: 0.9803 - val_loss: 0.0686\n",
      "Epoch 8/50\n",
      "\u001B[1m422/422\u001B[0m \u001B[32m━━━━━━━━━━━━━━━━━━━━\u001B[0m\u001B[37m\u001B[0m \u001B[1m2s\u001B[0m 5ms/step - accuracy: 0.9780 - loss: 0.0698 - val_accuracy: 0.9817 - val_loss: 0.0628\n",
      "Epoch 9/50\n",
      "\u001B[1m422/422\u001B[0m \u001B[32m━━━━━━━━━━━━━━━━━━━━\u001B[0m\u001B[37m\u001B[0m \u001B[1m2s\u001B[0m 5ms/step - accuracy: 0.9790 - loss: 0.0658 - val_accuracy: 0.9825 - val_loss: 0.0586\n",
      "Epoch 10/50\n",
      "\u001B[1m422/422\u001B[0m \u001B[32m━━━━━━━━━━━━━━━━━━━━\u001B[0m\u001B[37m\u001B[0m \u001B[1m2s\u001B[0m 5ms/step - accuracy: 0.9812 - loss: 0.0618 - val_accuracy: 0.9835 - val_loss: 0.0560\n",
      "Epoch 11/50\n",
      "\u001B[1m422/422\u001B[0m \u001B[32m━━━━━━━━━━━━━━━━━━━━\u001B[0m\u001B[37m\u001B[0m \u001B[1m2s\u001B[0m 5ms/step - accuracy: 0.9818 - loss: 0.0595 - val_accuracy: 0.9828 - val_loss: 0.0589\n",
      "Epoch 12/50\n",
      "\u001B[1m422/422\u001B[0m \u001B[32m━━━━━━━━━━━━━━━━━━━━\u001B[0m\u001B[37m\u001B[0m \u001B[1m2s\u001B[0m 4ms/step - accuracy: 0.9840 - loss: 0.0542 - val_accuracy: 0.9830 - val_loss: 0.0568\n",
      "Epoch 13/50\n",
      "\u001B[1m422/422\u001B[0m \u001B[32m━━━━━━━━━━━━━━━━━━━━\u001B[0m\u001B[37m\u001B[0m \u001B[1m2s\u001B[0m 4ms/step - accuracy: 0.9839 - loss: 0.0519 - val_accuracy: 0.9813 - val_loss: 0.0685\n",
      "Epoch 14/50\n",
      "\u001B[1m422/422\u001B[0m \u001B[32m━━━━━━━━━━━━━━━━━━━━\u001B[0m\u001B[37m\u001B[0m \u001B[1m2s\u001B[0m 4ms/step - accuracy: 0.9848 - loss: 0.0494 - val_accuracy: 0.9837 - val_loss: 0.0566\n",
      "Epoch 15/50\n",
      "\u001B[1m422/422\u001B[0m \u001B[32m━━━━━━━━━━━━━━━━━━━━\u001B[0m\u001B[37m\u001B[0m \u001B[1m2s\u001B[0m 4ms/step - accuracy: 0.9840 - loss: 0.0519 - val_accuracy: 0.9842 - val_loss: 0.0549\n",
      "Epoch 16/50\n",
      "\u001B[1m422/422\u001B[0m \u001B[32m━━━━━━━━━━━━━━━━━━━━\u001B[0m\u001B[37m\u001B[0m \u001B[1m2s\u001B[0m 4ms/step - accuracy: 0.9851 - loss: 0.0480 - val_accuracy: 0.9852 - val_loss: 0.0546\n",
      "Epoch 17/50\n",
      "\u001B[1m422/422\u001B[0m \u001B[32m━━━━━━━━━━━━━━━━━━━━\u001B[0m\u001B[37m\u001B[0m \u001B[1m2s\u001B[0m 4ms/step - accuracy: 0.9865 - loss: 0.0420 - val_accuracy: 0.9853 - val_loss: 0.0554\n",
      "Epoch 18/50\n",
      "\u001B[1m422/422\u001B[0m \u001B[32m━━━━━━━━━━━━━━━━━━━━\u001B[0m\u001B[37m\u001B[0m \u001B[1m2s\u001B[0m 4ms/step - accuracy: 0.9879 - loss: 0.0403 - val_accuracy: 0.9862 - val_loss: 0.0502\n",
      "Epoch 19/50\n",
      "\u001B[1m422/422\u001B[0m \u001B[32m━━━━━━━━━━━━━━━━━━━━\u001B[0m\u001B[37m\u001B[0m \u001B[1m2s\u001B[0m 4ms/step - accuracy: 0.9872 - loss: 0.0404 - val_accuracy: 0.9863 - val_loss: 0.0520\n",
      "Epoch 20/50\n",
      "\u001B[1m422/422\u001B[0m \u001B[32m━━━━━━━━━━━━━━━━━━━━\u001B[0m\u001B[37m\u001B[0m \u001B[1m2s\u001B[0m 4ms/step - accuracy: 0.9878 - loss: 0.0402 - val_accuracy: 0.9857 - val_loss: 0.0546\n",
      "Epoch 21/50\n",
      "\u001B[1m422/422\u001B[0m \u001B[32m━━━━━━━━━━━━━━━━━━━━\u001B[0m\u001B[37m\u001B[0m \u001B[1m2s\u001B[0m 4ms/step - accuracy: 0.9877 - loss: 0.0383 - val_accuracy: 0.9833 - val_loss: 0.0584\n",
      "Epoch 22/50\n",
      "\u001B[1m422/422\u001B[0m \u001B[32m━━━━━━━━━━━━━━━━━━━━\u001B[0m\u001B[37m\u001B[0m \u001B[1m2s\u001B[0m 4ms/step - accuracy: 0.9889 - loss: 0.0370 - val_accuracy: 0.9830 - val_loss: 0.0550\n",
      "Epoch 23/50\n",
      "\u001B[1m422/422\u001B[0m \u001B[32m━━━━━━━━━━━━━━━━━━━━\u001B[0m\u001B[37m\u001B[0m \u001B[1m2s\u001B[0m 4ms/step - accuracy: 0.9883 - loss: 0.0381 - val_accuracy: 0.9847 - val_loss: 0.0527\n",
      "Epoch 24/50\n",
      "\u001B[1m422/422\u001B[0m \u001B[32m━━━━━━━━━━━━━━━━━━━━\u001B[0m\u001B[37m\u001B[0m \u001B[1m2s\u001B[0m 4ms/step - accuracy: 0.9890 - loss: 0.0352 - val_accuracy: 0.9863 - val_loss: 0.0521\n",
      "Epoch 25/50\n",
      "\u001B[1m422/422\u001B[0m \u001B[32m━━━━━━━━━━━━━━━━━━━━\u001B[0m\u001B[37m\u001B[0m \u001B[1m1s\u001B[0m 3ms/step - accuracy: 0.9895 - loss: 0.0365 - val_accuracy: 0.9870 - val_loss: 0.0513\n",
      "Epoch 26/50\n",
      "\u001B[1m422/422\u001B[0m \u001B[32m━━━━━━━━━━━━━━━━━━━━\u001B[0m\u001B[37m\u001B[0m \u001B[1m2s\u001B[0m 4ms/step - accuracy: 0.9893 - loss: 0.0350 - val_accuracy: 0.9867 - val_loss: 0.0555\n",
      "Epoch 27/50\n",
      "\u001B[1m422/422\u001B[0m \u001B[32m━━━━━━━━━━━━━━━━━━━━\u001B[0m\u001B[37m\u001B[0m \u001B[1m2s\u001B[0m 4ms/step - accuracy: 0.9890 - loss: 0.0339 - val_accuracy: 0.9853 - val_loss: 0.0536\n",
      "Epoch 28/50\n",
      "\u001B[1m422/422\u001B[0m \u001B[32m━━━━━━━━━━━━━━━━━━━━\u001B[0m\u001B[37m\u001B[0m \u001B[1m1s\u001B[0m 3ms/step - accuracy: 0.9886 - loss: 0.0338 - val_accuracy: 0.9872 - val_loss: 0.0525\n",
      "Epoch 29/50\n",
      "\u001B[1m422/422\u001B[0m \u001B[32m━━━━━━━━━━━━━━━━━━━━\u001B[0m\u001B[37m\u001B[0m \u001B[1m2s\u001B[0m 4ms/step - accuracy: 0.9901 - loss: 0.0321 - val_accuracy: 0.9858 - val_loss: 0.0565\n",
      "Epoch 30/50\n",
      "\u001B[1m422/422\u001B[0m \u001B[32m━━━━━━━━━━━━━━━━━━━━\u001B[0m\u001B[37m\u001B[0m \u001B[1m2s\u001B[0m 4ms/step - accuracy: 0.9904 - loss: 0.0312 - val_accuracy: 0.9850 - val_loss: 0.0538\n",
      "Epoch 31/50\n",
      "\u001B[1m422/422\u001B[0m \u001B[32m━━━━━━━━━━━━━━━━━━━━\u001B[0m\u001B[37m\u001B[0m \u001B[1m2s\u001B[0m 4ms/step - accuracy: 0.9904 - loss: 0.0314 - val_accuracy: 0.9855 - val_loss: 0.0558\n",
      "Epoch 32/50\n",
      "\u001B[1m422/422\u001B[0m \u001B[32m━━━━━━━━━━━━━━━━━━━━\u001B[0m\u001B[37m\u001B[0m \u001B[1m1s\u001B[0m 3ms/step - accuracy: 0.9913 - loss: 0.0289 - val_accuracy: 0.9855 - val_loss: 0.0557\n",
      "Epoch 33/50\n",
      "\u001B[1m422/422\u001B[0m \u001B[32m━━━━━━━━━━━━━━━━━━━━\u001B[0m\u001B[37m\u001B[0m \u001B[1m1s\u001B[0m 3ms/step - accuracy: 0.9908 - loss: 0.0287 - val_accuracy: 0.9865 - val_loss: 0.0538\n",
      "Epoch 34/50\n",
      "\u001B[1m422/422\u001B[0m \u001B[32m━━━━━━━━━━━━━━━━━━━━\u001B[0m\u001B[37m\u001B[0m \u001B[1m1s\u001B[0m 3ms/step - accuracy: 0.9907 - loss: 0.0294 - val_accuracy: 0.9865 - val_loss: 0.0557\n",
      "Epoch 35/50\n",
      "\u001B[1m422/422\u001B[0m \u001B[32m━━━━━━━━━━━━━━━━━━━━\u001B[0m\u001B[37m\u001B[0m \u001B[1m1s\u001B[0m 3ms/step - accuracy: 0.9909 - loss: 0.0288 - val_accuracy: 0.9858 - val_loss: 0.0545\n",
      "Epoch 36/50\n",
      "\u001B[1m422/422\u001B[0m \u001B[32m━━━━━━━━━━━━━━━━━━━━\u001B[0m\u001B[37m\u001B[0m \u001B[1m2s\u001B[0m 4ms/step - accuracy: 0.9916 - loss: 0.0260 - val_accuracy: 0.9872 - val_loss: 0.0528\n",
      "Epoch 37/50\n",
      "\u001B[1m422/422\u001B[0m \u001B[32m━━━━━━━━━━━━━━━━━━━━\u001B[0m\u001B[37m\u001B[0m \u001B[1m2s\u001B[0m 4ms/step - accuracy: 0.9921 - loss: 0.0255 - val_accuracy: 0.9860 - val_loss: 0.0559\n",
      "Epoch 38/50\n",
      "\u001B[1m422/422\u001B[0m \u001B[32m━━━━━━━━━━━━━━━━━━━━\u001B[0m\u001B[37m\u001B[0m \u001B[1m1s\u001B[0m 3ms/step - accuracy: 0.9921 - loss: 0.0264 - val_accuracy: 0.9873 - val_loss: 0.0525\n",
      "Epoch 39/50\n",
      "\u001B[1m422/422\u001B[0m \u001B[32m━━━━━━━━━━━━━━━━━━━━\u001B[0m\u001B[37m\u001B[0m \u001B[1m1s\u001B[0m 3ms/step - accuracy: 0.9922 - loss: 0.0248 - val_accuracy: 0.9865 - val_loss: 0.0557\n",
      "Epoch 40/50\n",
      "\u001B[1m422/422\u001B[0m \u001B[32m━━━━━━━━━━━━━━━━━━━━\u001B[0m\u001B[37m\u001B[0m \u001B[1m2s\u001B[0m 4ms/step - accuracy: 0.9923 - loss: 0.0248 - val_accuracy: 0.9842 - val_loss: 0.0623\n",
      "Epoch 41/50\n",
      "\u001B[1m422/422\u001B[0m \u001B[32m━━━━━━━━━━━━━━━━━━━━\u001B[0m\u001B[37m\u001B[0m \u001B[1m1s\u001B[0m 3ms/step - accuracy: 0.9922 - loss: 0.0236 - val_accuracy: 0.9858 - val_loss: 0.0586\n",
      "Epoch 42/50\n",
      "\u001B[1m422/422\u001B[0m \u001B[32m━━━━━━━━━━━━━━━━━━━━\u001B[0m\u001B[37m\u001B[0m \u001B[1m1s\u001B[0m 3ms/step - accuracy: 0.9924 - loss: 0.0251 - val_accuracy: 0.9872 - val_loss: 0.0587\n",
      "Epoch 43/50\n",
      "\u001B[1m422/422\u001B[0m \u001B[32m━━━━━━━━━━━━━━━━━━━━\u001B[0m\u001B[37m\u001B[0m \u001B[1m2s\u001B[0m 4ms/step - accuracy: 0.9921 - loss: 0.0231 - val_accuracy: 0.9838 - val_loss: 0.0666\n",
      "Epoch 44/50\n",
      "\u001B[1m422/422\u001B[0m \u001B[32m━━━━━━━━━━━━━━━━━━━━\u001B[0m\u001B[37m\u001B[0m \u001B[1m1s\u001B[0m 3ms/step - accuracy: 0.9933 - loss: 0.0220 - val_accuracy: 0.9842 - val_loss: 0.0653\n",
      "Epoch 45/50\n",
      "\u001B[1m422/422\u001B[0m \u001B[32m━━━━━━━━━━━━━━━━━━━━\u001B[0m\u001B[37m\u001B[0m \u001B[1m2s\u001B[0m 4ms/step - accuracy: 0.9929 - loss: 0.0225 - val_accuracy: 0.9843 - val_loss: 0.0652\n",
      "Epoch 46/50\n",
      "\u001B[1m422/422\u001B[0m \u001B[32m━━━━━━━━━━━━━━━━━━━━\u001B[0m\u001B[37m\u001B[0m \u001B[1m2s\u001B[0m 4ms/step - accuracy: 0.9927 - loss: 0.0227 - val_accuracy: 0.9852 - val_loss: 0.0657\n",
      "Epoch 47/50\n",
      "\u001B[1m422/422\u001B[0m \u001B[32m━━━━━━━━━━━━━━━━━━━━\u001B[0m\u001B[37m\u001B[0m \u001B[1m1s\u001B[0m 3ms/step - accuracy: 0.9925 - loss: 0.0234 - val_accuracy: 0.9845 - val_loss: 0.0586\n",
      "Epoch 48/50\n",
      "\u001B[1m422/422\u001B[0m \u001B[32m━━━━━━━━━━━━━━━━━━━━\u001B[0m\u001B[37m\u001B[0m \u001B[1m1s\u001B[0m 3ms/step - accuracy: 0.9936 - loss: 0.0197 - val_accuracy: 0.9868 - val_loss: 0.0570\n",
      "Epoch 49/50\n",
      "\u001B[1m422/422\u001B[0m \u001B[32m━━━━━━━━━━━━━━━━━━━━\u001B[0m\u001B[37m\u001B[0m \u001B[1m1s\u001B[0m 3ms/step - accuracy: 0.9934 - loss: 0.0212 - val_accuracy: 0.9850 - val_loss: 0.0620\n",
      "Epoch 50/50\n",
      "\u001B[1m422/422\u001B[0m \u001B[32m━━━━━━━━━━━━━━━━━━━━\u001B[0m\u001B[37m\u001B[0m \u001B[1m1s\u001B[0m 3ms/step - accuracy: 0.9937 - loss: 0.0188 - val_accuracy: 0.9860 - val_loss: 0.0597\n"
     ]
    }
   ],
   "execution_count": 7
  },
  {
   "cell_type": "markdown",
   "metadata": {
    "id": "IBX2Tc_0bfPK"
   },
   "source": [
    "Show the performance of the model"
   ]
  },
  {
   "cell_type": "code",
   "metadata": {
    "colab": {
     "base_uri": "https://localhost:8080/",
     "height": 467
    },
    "id": "WeaMjl-EbfPS",
    "outputId": "63cd42c3-ca14-45ad-d253-7a8a81e341f7",
    "ExecuteTime": {
     "end_time": "2025-05-04T14:42:12.109330Z",
     "start_time": "2025-05-04T14:42:11.476050Z"
    }
   },
   "source": [
    "pl.plot(history.history['loss'], label='Training')\n",
    "pl.plot(history.history['val_loss'], label='Testing')\n",
    "pl.legend()\n",
    "pl.grid()\n",
    "\n",
    "score = model.evaluate(X_test, Y_test, verbose=0)\n",
    "print('Test score:', score[0])\n",
    "print('Test accuracy:', score[1])"
   ],
   "outputs": [
    {
     "name": "stdout",
     "output_type": "stream",
     "text": [
      "Test score: 0.05397616699337959\n",
      "Test accuracy: 0.9848999977111816\n"
     ]
    },
    {
     "data": {
      "text/plain": [
       "<Figure size 640x480 with 1 Axes>"
      ],
      "image/png": "[encoded data removed]"
     },
     "metadata": {},
     "output_type": "display_data"
    }
   ],
   "execution_count": 8
  },
  {
   "cell_type": "markdown",
   "metadata": {
    "id": "rXNZ2ZHSbfPm"
   },
   "source": [
    "Confusion matrix"
   ]
  },
  {
   "cell_type": "code",
   "metadata": {
    "colab": {
     "base_uri": "https://localhost:8080/"
    },
    "id": "XfgRipFebfPm",
    "outputId": "ce89028d-f8ed-4a38-f1a0-5329c53f13f1",
    "ExecuteTime": {
     "end_time": "2025-05-04T14:42:17.692393Z",
     "start_time": "2025-05-04T14:42:16.838952Z"
    }
   },
   "source": [
    "pred = model.predict(X_test)\n",
    "print('pred.shape = ', pred.shape)\n",
    "pred = np.argmax(pred, axis=-1)\n",
    "confusion_matrix(y_test, pred)\n",
    "\n",
    "plt.figure(figsize=(10, 10))\n",
    "sns.heatmap(confusion_matrix(y_test, pred), annot=True, fmt='d', cmap='Blues', cbar=False)\n",
    "plt.xlabel('Predicted Label')\n",
    "plt.ylabel('True Label')\n",
    "\n",
    "f1_score_macro = f1_score(y_test, pred, average='macro')\n",
    "f1_score_micro = f1_score(y_test, pred, average='micro')\n",
    "f1_score_weighted = f1_score(y_test, pred, average='weighted')\n",
    "\n",
    "print(f\"F1 macro Score: {f1_score_macro}\")\n",
    "print(f\"F1 weighted Score: {f1_score_weighted}\")\n",
    "print(f\"F1 micro Score: {f1_score_micro}\")"
   ],
   "outputs": [
    {
     "name": "stdout",
     "output_type": "stream",
     "text": [
      "\u001B[1m313/313\u001B[0m \u001B[32m━━━━━━━━━━━━━━━━━━━━\u001B[0m\u001B[37m\u001B[0m \u001B[1m1s\u001B[0m 1ms/step\n",
      "pred.shape =  (10000, 10)\n",
      "F1 macro Score: 0.9847688175492827\n",
      "F1 weighted Score: 0.9848936942322345\n",
      "F1 micro Score: 0.9849\n"
     ]
    },
    {
     "data": {
      "text/plain": [
       "<Figure size 1000x1000 with 1 Axes>"
      ],
      "image/png": "[encoded data removed]"
     },
     "metadata": {},
     "output_type": "display_data"
    }
   ],
   "execution_count": 9
  },
  {
   "cell_type": "code",
   "metadata": {
    "id": "1WNDeJBZXR-O",
    "ExecuteTime": {
     "end_time": "2025-05-04T14:06:26.660855Z",
     "start_time": "2025-05-04T14:06:26.657345Z"
    }
   },
   "source": [],
   "outputs": [],
   "execution_count": null
  }
 ],
 "metadata": {
  "accelerator": "GPU",
  "colab": {
   "provenance": []
  },
  "kernelspec": {
   "display_name": "Python 3 (ipykernel)",
   "language": "python",
   "name": "python3"
  },
  "language_info": {
   "codemirror_mode": {
    "name": "ipython",
    "version": 3
   },
   "file_extension": ".py",
   "mimetype": "text/x-python",
   "name": "python",
   "nbconvert_exporter": "python",
   "pygments_lexer": "ipython3",
   "version": "3.10.15"
  }
 },
 "nbformat": 4,
 "nbformat_minor": 0
}
