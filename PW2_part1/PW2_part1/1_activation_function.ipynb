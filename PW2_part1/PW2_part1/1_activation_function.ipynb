{
 "cells": [
  {
   "cell_type": "markdown",
   "metadata": {
    "id": "CUfUg9wv2eH2"
   },
   "source": [
    "# Activation functions\n",
    "Activation functions are essential to artificial neural networks. They are used to compute the output of artificial neurons and therefore, the output of the network.\n",
    "Activation functions must be differentiable if network parameters are found using a learning algorithm like backpropagation.\n",
    "\n",
    "This notebook shows some examples of activation functions, and how their shape change with respect to the weight of the connections between neurons."
   ]
  },
  {
   "cell_type": "markdown",
   "metadata": {
    "id": "pAMSfjtk2eH7"
   },
   "source": [
    "## Loading the packages"
   ]
  },
  {
   "cell_type": "code",
   "metadata": {
    "id": "zPUmgaE82eH8",
    "jupyter": {
     "is_executing": true
    }
   },
   "source": [
    "import numpy as np\n",
    "import matplotlib.pyplot as pl\n",
    "from ipywidgets import interact, widgets\n",
    "\n",
    "%matplotlib inline"
   ],
   "outputs": [],
   "execution_count": null
  },
  {
   "cell_type": "markdown",
   "metadata": {
    "id": "9dIgmgxt2eH9"
   },
   "source": [
    "## Definition of some activation functions"
   ]
  },
  {
   "cell_type": "markdown",
   "metadata": {
    "id": "irGN_EyR2eH-"
   },
   "source": [
    "Linear\n",
    "$$output = neta$$\n",
    "\n",
    "Sigmoid\n",
    "$$output = \\frac {1}{1 + e^{-neta}}$$\n",
    "\n",
    "Hyperbolic tangent\n",
    "$$output = \\frac {e^{neta} - e^{-neta}}{e^{neta} + e^{-neta}}$$"
   ]
  },
  {
   "cell_type": "code",
   "metadata": {
    "id": "HoSijfJe2eH_",
    "jupyter": {
     "is_executing": true
    }
   },
   "source": [
    "def linear(neta):\n",
    "    '''Linear activation function'''\n",
    "    output = neta\n",
    "    d_output = np.ones(len(neta))\n",
    "    return (output, d_output)\n",
    "\n",
    "def sigmoid(neta):\n",
    "    '''Sigmoidal activation function'''\n",
    "    output = 1 / (1 + np.exp(-neta))\n",
    "    d_output = output * (1 - output)\n",
    "    return (output, d_output)\n",
    "\n",
    "def htan(neta):\n",
    "    '''Hyperbolic tangent activation function'''\n",
    "    exp = np.exp(neta)\n",
    "    m_exp = np.exp(-neta)\n",
    "    output = (exp - m_exp ) / (exp + m_exp)\n",
    "    d_output = 1 - (output * output)\n",
    "    return (output, d_output)\n",
    "\n",
    "activation_functions_dict = {'Linear': linear, 'Sigmoid': sigmoid, 'Hyperbolic tangent': htan}"
   ],
   "outputs": [],
   "execution_count": null
  },
  {
   "cell_type": "markdown",
   "metadata": {
    "id": "NeFfSEt-2eH_"
   },
   "source": [
    "## Functions to plot the activation function"
   ]
  },
  {
   "cell_type": "code",
   "execution_count": 3,
   "metadata": {
    "id": "cr0OLZww2eIA"
   },
   "outputs": [],
   "source": [
    "from IPython.display import clear_output, display\n",
    "\n",
    "input_values = np.arange(-10, 10, 0.01)\n",
    "out = widgets.Output(layout={'width': '800px', 'height': '650px'})\n",
    "\n",
    "def plot_activation_function(activation_function_index, weight):\n",
    "    neta = weight * input_values\n",
    "\n",
    "    activation_function = activation_functions_dict.get(list(activation_functions_dict.keys())[activation_function_index])\n",
    "    output_value, d_output_value = activation_function(neta)\n",
    "\n",
    "    with out:\n",
    "      # Clear the previous output\n",
    "      clear_output(wait=True)\n",
    "\n",
    "      pl.figure(figsize=(8,6))\n",
    "      pl.plot(input_values, output_value, label='output')\n",
    "      pl.plot(input_values, weight * d_output_value, c='r', label='first derivative')\n",
    "      pl.xlabel('Input value')\n",
    "      pl.ylabel('Output value')\n",
    "      pl.ylim(-1.1, 1.1)\n",
    "      pl.legend(loc=4)\n",
    "      pl.grid()\n",
    "      pl.show()"
   ]
  },
  {
   "cell_type": "code",
   "execution_count": 4,
   "metadata": {
    "id": "PL7IDZJd2eIA"
   },
   "outputs": [],
   "source": [
    "weight_slider = widgets.FloatSlider(\n",
    "    value=1.0,\n",
    "    min=-2.0,\n",
    "    max=2.0,\n",
    "    step=0.01,\n",
    "    description='Weight',\n",
    ")\n",
    "activation_function_list = widgets.Dropdown(\n",
    "    options={k:i for i,k in enumerate(activation_functions_dict.keys())},\n",
    "    value=1,\n",
    "    description='Activation function',\n",
    ")"
   ]
  },
  {
   "cell_type": "markdown",
   "metadata": {
    "id": "7c96jGM42eIB"
   },
   "source": [
    "## Plot the activation functions"
   ]
  },
  {
   "cell_type": "code",
   "execution_count": 5,
   "metadata": {
    "colab": {
     "base_uri": "https://localhost:8080/",
     "height": 731,
     "referenced_widgets": [
      "2c8dd88df97042b59e04e70e8e47ae89",
      "47d1c6384ff84b1d82ad55914d8159b2",
      "b932e5f84b004a6d87e092c3e2489f03",
      "dbd097aa16694372b95b9511057a0713",
      "738b9e200488441ba53dcc6d57bbf8e4",
      "076b4a90a97448a8a399505a8cc3f798",
      "9b97dd77783341a1a0d7de50ad5b7aff",
      "a3070ae5675d44109ca052b8f0a086a3",
      "4aa369b0b03a48e7a9c0539664d59769",
      "9afff5af63344b7dabe8d8465232bc00",
      "1fea63348c88464d9133c57bc0a9af7d",
      "07b667e00fe641b88e20ce13c0660060"
     ]
    },
    "id": "trvARndL2eIB",
    "outputId": "be04136d-6e8f-485e-96bf-9cbf3ce57c4f"
   },
   "outputs": [
    {
     "data": {
      "application/vnd.jupyter.widget-view+json": {
       "model_id": "2c8dd88df97042b59e04e70e8e47ae89",
       "version_major": 2,
       "version_minor": 0
      },
      "text/plain": [
       "interactive(children=(Dropdown(description='Activation function', index=1, options={'Linear': 0, 'Sigmoid': 1,…"
      ]
     },
     "metadata": {},
     "output_type": "display_data"
    },
    {
     "data": {
      "application/vnd.jupyter.widget-view+json": {
       "model_id": "1fea63348c88464d9133c57bc0a9af7d",
       "version_major": 2,
       "version_minor": 0
      },
      "text/plain": [
       "Output(layout=Layout(height='650px', width='800px'))"
      ]
     },
     "metadata": {},
     "output_type": "display_data"
    }
   ],
   "source": [
    "interact(plot_activation_function, activation_function_index=activation_function_list, weight=weight_slider);\n",
    "display(out)"
   ]
  },
  {
   "cell_type": "markdown",
   "metadata": {
    "id": "1iuSt5r02eIC"
   },
   "source": [
    "## Exercise"
   ]
  },
  {
   "cell_type": "markdown",
   "metadata": {
    "id": "kjQY50MO2eIC"
   },
   "source": [
    "- Observe the shape of the different activation functions proposed.\n",
    "\n",
    "- Observe the effects of modifying the weight. How the shape of the function changes? How the first derivative changes?\n",
    "\n",
    "- Implement the activation function of a rectified Linear Unit (ReLU)\n",
    "\n",
    "$$ f(x) = \\left \\{\n",
    "\\begin{array}{rcl}\n",
    "\t0 & \\mbox{for} & x < 0\\\\\n",
    "\tx & \\mbox{for} & x \\ge 0\n",
    "\\end{array} \\right.\n",
    "\\hspace{1cm}\n",
    "f'(x) = \\left \\{\n",
    "\\begin{array}{rcl}\n",
    "\t0 & \\mbox{for} & x < 0\\\\\n",
    "\t1 & \\mbox{for} & x \\ge 0\n",
    "\\end{array} \\right.\n",
    "$$\n",
    "\n",
    "- Visualize the ReLu activation function using the tools given in this notebook"
   ]
  }
 ],
 "metadata": {
  "colab": {
   "provenance": []
  },
  "kernelspec": {
   "display_name": "Python 3",
   "language": "python",
   "name": "python3"
  },
  "language_info": {
   "codemirror_mode": {
    "name": "ipython",
    "version": 3
   },
   "file_extension": ".py",
   "mimetype": "text/x-python",
   "name": "python",
   "nbconvert_exporter": "python",
   "pygments_lexer": "ipython3",
   "version": "3.12.3"
  },
  "widgets": {
   "application/vnd.jupyter.widget-state+json": {
    "076b4a90a97448a8a399505a8cc3f798": {
     "model_module": "@jupyter-widgets/base",
     "model_module_version": "1.2.0",
     "model_name": "LayoutModel",
     "state": {
      "_model_module": "@jupyter-widgets/base",
      "_model_module_version": "1.2.0",
      "_model_name": "LayoutModel",
      "_view_count": null,
      "_view_module": "@jupyter-widgets/base",
      "_view_module_version": "1.2.0",
      "_view_name": "LayoutView",
      "align_content": null,
      "align_items": null,
      "align_self": null,
      "border": null,
      "bottom": null,
      "display": null,
      "flex": null,
      "flex_flow": null,
      "grid_area": null,
      "grid_auto_columns": null,
      "grid_auto_flow": null,
      "grid_auto_rows": null,
      "grid_column": null,
      "grid_gap": null,
      "grid_row": null,
      "grid_template_areas": null,
      "grid_template_columns": null,
      "grid_template_rows": null,
      "height": null,
      "justify_content": null,
      "justify_items": null,
      "left": null,
      "margin": null,
      "max_height": null,
      "max_width": null,
      "min_height": null,
      "min_width": null,
      "object_fit": null,
      "object_position": null,
      "order": null,
      "overflow": null,
      "overflow_x": null,
      "overflow_y": null,
      "padding": null,
      "right": null,
      "top": null,
      "visibility": null,
      "width": null
     }
    },
    "07b667e00fe641b88e20ce13c0660060": {
     "model_module": "@jupyter-widgets/base",
     "model_module_version": "1.2.0",
     "model_name": "LayoutModel",
     "state": {
      "_model_module": "@jupyter-widgets/base",
      "_model_module_version": "1.2.0",
      "_model_name": "LayoutModel",
      "_view_count": null,
      "_view_module": "@jupyter-widgets/base",
      "_view_module_version": "1.2.0",
      "_view_name": "LayoutView",
      "align_content": null,
      "align_items": null,
      "align_self": null,
      "border": null,
      "bottom": null,
      "display": null,
      "flex": null,
      "flex_flow": null,
      "grid_area": null,
      "grid_auto_columns": null,
      "grid_auto_flow": null,
      "grid_auto_rows": null,
      "grid_column": null,
      "grid_gap": null,
      "grid_row": null,
      "grid_template_areas": null,
      "grid_template_columns": null,
      "grid_template_rows": null,
      "height": "650px",
      "justify_content": null,
      "justify_items": null,
      "left": null,
      "margin": null,
      "max_height": null,
      "max_width": null,
      "min_height": null,
      "min_width": null,
      "object_fit": null,
      "object_position": null,
      "order": null,
      "overflow": null,
      "overflow_x": null,
      "overflow_y": null,
      "padding": null,
      "right": null,
      "top": null,
      "visibility": null,
      "width": "800px"
     }
    },
    "1fea63348c88464d9133c57bc0a9af7d": {
     "model_module": "@jupyter-widgets/output",
     "model_module_version": "1.0.0",
     "model_name": "OutputModel",
     "state": {
      "_dom_classes": [],
      "_model_module": "@jupyter-widgets/output",
      "_model_module_version": "1.0.0",
      "_model_name": "OutputModel",
      "_view_count": null,
      "_view_module": "@jupyter-widgets/output",
      "_view_module_version": "1.0.0",
      "_view_name": "OutputView",
      "layout": "IPY_MODEL_07b667e00fe641b88e20ce13c0660060",
      "msg_id": "",
      "outputs": [
       {
        "data": {
         "image/png": "iVBORw0KGgoAAAANSUhEUgAAAscAAAINCAYAAADShdL8AAAAOXRFWHRTb2Z0d2FyZQBNYXRwbG90bGliIHZlcnNpb24zLjcuMSwgaHR0cHM6Ly9tYXRwbG90bGliLm9yZy/bCgiHAAAACXBIWXMAAA9hAAAPYQGoP6dpAAB/IklEQVR4nO3deVhU5fsG8HtmGIYdRJZhk8V9AURJwjYXBNRKzcytXH6mZVIZlWnlXmlmZppfbdUWl7JSKw1FDK1EXHHFHUVlUxGGRZhh5vz+ACaRGQQcZhi4P9c1l8yZM+c85/EIt4d33iMSBEEAERERERFBbOoCiIiIiIgaC4ZjIiIiIqIKDMdERERERBUYjomIiIiIKjAcExERERFVYDgmIiIiIqrAcExEREREVIHhmIiIiIiogoWpC2gKNBoNMjIyYG9vD5FIZOpyiIiIiOgugiCgoKAAnp6eEIv1Xx9mODaAjIwM+Pj4mLoMIiIiIrqHK1euwNvbW+/rDMcGYG9vD6C82Q4ODg2+P5VKhR07diAyMhJSqbTB92cu2Bf92Bvd2Bf92Bvd2Bf92Bvd2Bf9jN0bhUIBHx8fbW7Th+HYACqHUjg4OBgtHNvY2MDBwYH/0O7AvujH3ujGvujH3ujGvujH3ujGvuhnqt7cawgsP5BHRERERFSB4ZiIiIiIqALDMRERERFRBYZjIiIiIqIKDMdERERERBUYjomIiIiIKjAcExERERFVYDgmIiIiIqrAcExEREREVIHhmIiIiIioAsMxEREREVEFhmMiIiIiogoMx0REREREFcwqHO/ZswdPPPEEPD09IRKJsHnz5nu+JzExEd26dYNMJkObNm2wZs2aauusWLECfn5+sLKyQlhYGPbv32/44omIiIio0TOrcFxUVITg4GCsWLGiVuunpaVh4MCB6N27N1JSUjB16lQ8//zz2L59u3adH3/8EbGxsZg9ezYOHz6M4OBgREVFIScnp6EOg4iIiIgaKQtTF1AX/fv3R//+/Wu9/qpVq+Dv74+PP/4YANCxY0f8888/+OSTTxAVFQUAWLJkCSZOnIjx48dr37N161Z88803mD59uuEPgoiIiIgaLbO6clxXSUlJiIiIqLIsKioKSUlJAAClUolDhw5VWUcsFiMiIkK7DhERERE1H2Z15biusrKy4O7uXmWZu7s7FAoFbt++jVu3bkGtVutc5/Tp03q3W1paitLSUu1zhUIBAFCpVFCpVAY8At0q92GMfZkT9kU/9kY39kU/9kY39kU/9kY39kU/Y/emtvtp0uG4oSxYsABz586ttnzHjh2wsbExWh3x8fFG25c5YV/0Y290Y1/0Y290Y1/0Y290Y1/0M1ZviouLa7Vekw7Hcrkc2dnZVZZlZ2fDwcEB1tbWkEgkkEgkOteRy+V6tztjxgzExsZqnysUCvj4+CAyMhIODg6GPQgdVCoV4uPj0a9fP0il0gbfn7lgX/Rjb3RjX/Rjb3RjX/Rjb3RjX/Qzdm8qf9N/L006HIeHh2Pbtm1VlsXHxyM8PBwAYGlpie7duyMhIQGDBw8GAGg0GiQkJCAmJkbvdmUyGWQyWbXlUqnUqCe+sfdnLtgX/dgb3dgX/dgb3dgX/dgb3dgX/YzVm9ruw6w+kFdYWIiUlBSkpKQAKJ+qLSUlBenp6QDKr+iOGTNGu/6LL76IixcvYtq0aTh9+jT+97//4aeffsJrr72mXSc2NhZffvklvv32W6SmpmLy5MkoKirSzl5BRERERM2HWV05PnjwIHr37q19Xjm0YezYsVizZg0yMzO1QRkA/P39sXXrVrz22mv49NNP4e3tja+++ko7jRsADB8+HNevX8esWbOQlZWFrl27Ii4urtqH9IiIiIio6TOrcNyrVy8IgqD3dV13v+vVqxeOHDlS43ZjYmJqHEZBRERERM2DWQ2rICIiIiJqSAzHREREREQVGI6JiIiIiCowHBMRERERVWA4JiIiIiKqwHBMRERERFSB4ZiIiIiIqALDMRERERFRBYZjIiIiIqIKDMdERERERBUYjomIiIiIKjAcExERERFVYDgmIiIiIqrAcExEREREVIHhmIiIiIioAsMxEREREVEFhmMiIiIiogoMx0REREREFRiOiYiIiIgqMBwTEREREVVgOCYiIiIiqsBwTERERERUgeGYiIiIiKgCwzERERERUQWGYyIiIiKiCgzHREREREQVGI6JiIiIiCowHBMRERERVWA4JiIiIiKqwHBMRERERFSB4ZiIiIiIqALDMRERERFRBYZjIiIiIqIKDMdERERERBUYjomIiIiIKjAcExERERFVYDgmIiIiIqrAcExEREREVIHhmIiIiIioAsMxEREREVEFhmMiIiIiogoMx0REREREFcwuHK9YsQJ+fn6wsrJCWFgY9u/fr3fdXr16QSQSVXsMHDhQu864ceOqvR4dHW2MQyEiIiJqljQaAYcu34JCaepKqrMwdQF18eOPPyI2NharVq1CWFgYli5diqioKJw5cwZubm7V1v/111+hVP7X9Zs3byI4OBjDhg2rsl50dDRWr16tfS6TyRruIIiIiIiaIWWZBkkXbyLuRBbiT2XjRmEpBvuKMMLUhd3FrMLxkiVLMHHiRIwfPx4AsGrVKmzduhXffPMNpk+fXm19Z2fnKs83bNgAGxubauFYJpNBLpc3XOFEREREzVCJSo3EM9cRdyITCadzUFBSpn3N3soCKo3ahNXpZjbhWKlU4tChQ5gxY4Z2mVgsRkREBJKSkmq1ja+//hojRoyAra1tleWJiYlwc3NDixYt0KdPH7z33nto2bKl3u2UlpaitLRU+1yhUAAAVCoVVCpVXQ6rXir3YYx9mRP2RT/2Rjf2RT/2Rjf2RT/2Rrfm2JcSlRq7z97AnyezkXjmOoqU/wVgVztL9O3ohsiObujmY4/duxKM1pva7kckCILQwLUYREZGBry8vLB3716Eh4drl0+bNg27d+9GcnJyje/fv38/wsLCkJycjB49emiXV15N9vf3x4ULF/D222/Dzs4OSUlJkEgkOrc1Z84czJ07t9rydevWwcbGpp5HSERERGSelGrgVJ4IKTdFOHlLBKVGpH2thaWA4JYCurbUwNcOEItq2FADKi4uxqhRo5Cfnw8HBwe965nNleP79fXXXyMwMLBKMAaAESP+G+kSGBiIoKAgtG7dGomJiejbt6/Obc2YMQOxsbHa5wqFAj4+PoiMjKyx2YaiUqkQHx+Pfv36QSqVNvj+zAX7oh97oxv7oh97oxv7oh97o1tT7sttpRqJZ68j7mQ2/jpzHbdVGu1rXk5WiO7sjv5d5AjycoBIVD0RG7s3lb/pvxezCccuLi6QSCTIzs6usjw7O/ue44WLioqwYcMGzJs37577CQgIgIuLC86fP683HMtkMp0f2pNKpUY98Y29P3PBvujH3ujGvujH3ujGvujH3ujWVPpSWqbG7jPXseVoBnal5uC26r8hE15O1hgY5IEBgR4I9nbUGYh1MVZvarsPswnHlpaW6N69OxISEjB48GAAgEajQUJCAmJiYmp878aNG1FaWopnn332nvu5evUqbt68CQ8PD0OUTURERGTW1BoByWk38VtKBrYdz4Tijg/VebewxsDA8kAcVIdA3JiZTTgGgNjYWIwdOxahoaHo0aMHli5diqKiIu3sFWPGjIGXlxcWLFhQ5X1ff/01Bg8eXO1DdoWFhZg7dy6GDh0KuVyOCxcuYNq0aWjTpg2ioqKMdlxEREREjYkgCDiZocDmI9fw+7EMZCv+m4jA3UGGJ4M98USwJwK9mkYgvpNZhePhw4fj+vXrmDVrFrKystC1a1fExcXB3d0dAJCeng6xuOp9Tc6cOYN//vkHO3bsqLY9iUSCY8eO4dtvv0VeXh48PT0RGRmJ+fPnc65jIiIianbSbhTht5QMbDl6DRevF2mXO1hZYECgBwZ19UIPf2dITPWpOiMwq3AMADExMXqHUSQmJlZb1r59e+ibkMPa2hrbt283ZHlEREREZuVWkRK/Hc3Ar4ev4ujVfO1ymYUYEZ3cMSjYE4+1d4XMQvcsXk2N2YVjIiIiIro/KrUGu89cx8+HriLhdDZU6vILiRKxCA+3ccGgrp6I7CyHnaz5RcXmd8REREREzdSpDAV+OXwVW1Ku4UahUru8s6cDhnbzxhPBnnC1b95DSxmOiYiIiJqwG4Wl2JKSgV8OXcWpzP/m+nWxs8Tgrl4Y2t0bHT0a/j4N5oLhmIiIiKiJKVNrsOt0DjYeuoq/TuegTFM+bMJSIkZEJzcM7eaNR9u5QioR32NLzQ/DMREREVETkX6zGD8eTMfGg1eRU/Df9GvB3o54unv5sAknG0sTVtj4MRwTERERmbHSMjXiT2Vjw/4r+Of8De3ylraWGNrdG8O6e6Otu70JKzQvDMdEREREZuh8TiF+PJCOXw5fQ25R+YfrRCLg4TYuGNmjFSI6usPSgsMm6orhmIiIiMhMlKjU2HY8Exv2X8H+S7na5e4OMjwT6oNnQn3g42xjwgrNH8MxERERUSN36UYRfth3GRsPXUX+bRUAQCwC+nRww4gHWqFXe1dY8MN1BsFwTERERNQIqTUC/jqdg+/2Xcaes9e1y72crDHiAR8MC/WB3NHKhBU2TQzHRERERI3IzcJS/HjwCtbuS8e1vNsAyscS92rniufCffFYOzdIxCITV9l0MRwTERERmZggCDicnofvky5h2/EsKNUaAICTjRTDQ30wKqwVfFvamrjK5oHhmIiIiMhESlRqbEm5hu+SLuNkxn93rwv2dsSzD/riiWBPWEklJqyw+WE4JiIiIjKyHEUJvt93GWuT07XTsFlaiPFksCeee9AXwT5Opi2wGWM4JiIiIjKS41fz8c2/afjjWAZU6vJbOns5WeO5cF8MD/VBC1vevc7UGI6JiIiIGpBGALafzMZ3+6rOTRzq2wL/97A/Iju5cxq2RoThmIiIiKgBKEpUWL/vEj4/IkHuvqMAAAuxCI8HeWD8Q/4cOtFIMRwTERERGdCV3GJ8/U8aNh68giKlGoAILWykGB3mi+fCfeHuwLmJGzOGYyIiIiIDOHEtH1/suYitxzOh1pSPJ27rZovudgq882xf2NswFJsDhmMiIiKiehIEAf+cv4Ev9lzE3+duaJc/0tYFkx4NQJivI/78809Ox2ZGGI6JiIiI6qhMrcHW45n4fPdFnMosn59YUjGeeNKjAejs6QgAUKlUpiyT6oHhmIiIiKiWipVl+PHAFXz9Txqu3iq/tbO1VIIRPXzwfw/5w8fZxsQV0v1iOCYiIiK6h1tFSqzeewnfJV1CXnH51eCWtpYY19MPzz7oy/mJmxCGYyIiIiI9cgpK8NXfafhh32UUK9UAAL+WNnj+kQA83d2bY4mbIIZjIiIiortcy7uNz3dfwIYDV6As0wAAOns6YErvNojqLIdELDJxhdRQGI6JiIiIKqTdKMLKxPP49fA1lFVMx9bdtwVierdBr/auEIkYips6hmMiIiJq9k5nKbDirwvYeiwDFZkYD7VpiZjebfFggDNDcTPCcExERETN1rGreVi+6zziT2Vrl/Xt4IYpfdqgW6sWJqyMTIXhmIiIiJqd41fzsXTnWSSczgEAiETAgC4eeKl3a+0cxdQ8MRwTERFRs3HiWj6W7jyHnanlV4rFImBwVy+81LsN2rjZmbg6agwYjomIiKjJS81UYOnOs9h+8r9QPKirF17u0wYBrgzF9B+GYyIiImqyTmcp8OnOc/jzRBaA8uETTwZ74uU+bXmlmHRiOCYiIqIm52x2AT7deQ5bj2cCKA/FAwM98Grftmjrbm/i6qgxYzgmIiKiJiPtRhE+iT+L349lQKiYkm1AoByv9m2H9nKGYro3hmMiIiIye1n5Jfg04Rx+OngF6oqJiqM7y/FqRFt09HAwcXVkThiOiYiIyGzdKlJi5e4L+HbvJZRW3Oa5d3tXvB7ZHl28OCUb1R3DMREREZmdwtIyfPNPGr7ccxEFpWUAgAf8WuDNqA7o4e9s4urInDEcExERkdkoLVNj7b50rPjrPG4WKQEAHT0cMC2qPXq1d+Vtnum+MRwTERFRo1em1uDXI9fw6c5zuJZ3GwDg72KL2H7tMDDQA2IxQzEZBsMxERERNVqCICD+VDY+jDuNC9eLAAByByu8GtEWT3f3hlQiNnGF1NQwHBMREVGjdCT9FhZsO439l3IBAC1spHipVxs8F+4LK6nExNVRU8VwTERERI3K5ZtFWLT9DLYeK7+Bh8xCjOcf8ccLj7WGg5XUxNVRU2d2v4tYsWIF/Pz8YGVlhbCwMOzfv1/vumvWrIFIJKrysLKyqrKOIAiYNWsWPDw8YG1tjYiICJw7d66hD4OIiIjucqtIibm/n0TEkt3YeiwTIhHwdHdvJL7ZC29GdWAwJqMwqyvHP/74I2JjY7Fq1SqEhYVh6dKliIqKwpkzZ+Dm5qbzPQ4ODjhz5oz2+d2fYl20aBGWLVuGb7/9Fv7+/pg5cyaioqJw6tSpakGaiIiIDK9EpcaavZew4q/zKCgpn5bt0XaumNG/A2/gQUZnVuF4yZIlmDhxIsaPHw8AWLVqFbZu3YpvvvkG06dP1/kekUgEuVyu8zVBELB06VK8++67GDRoEADgu+++g7u7OzZv3owRI0Y0zIEQERERNBoBm1Ou4eMdZ7UzUHTycMCMAR3wSFtXE1dHzZXZhGOlUolDhw5hxowZ2mVisRgRERFISkrS+77CwkL4+vpCo9GgW7du+OCDD9C5c2cAQFpaGrKyshAREaFd39HREWFhYUhKStIbjktLS1FaWqp9rlAoAAAqlQoqleq+jrM2KvdhjH2ZE/ZFP/ZGN/ZFP/ZGN/ZFv7r2Zt/FXCyIO4NTmQUAALmDDLERbTEouHxatqbSY54z+hm7N7Xdj0gQBKGBazGIjIwMeHl5Ye/evQgPD9cunzZtGnbv3o3k5ORq70lKSsK5c+cQFBSE/Px8LF68GHv27MHJkyfh7e2NvXv34qGHHkJGRgY8PDy073vmmWcgEonw448/6qxlzpw5mDt3brXl69atg42NjQGOloiIqGm6UQJsuSzGsdzyjz1ZSQREeGnwmFyAJSegoAZUXFyMUaNGIT8/Hw4O+ofrmM2V4/oIDw+vEqR79uyJjh074vPPP8f8+fPrvd0ZM2YgNjZW+1yhUMDHxweRkZE1NttQVCoV4uPj0a9fP0il/HBCJfZFP/ZGN/ZFP/ZGN/ZFv3v1pqCkDCt3X8SaY5ehUguQiEUYEeqNV/q0hrOtpQkqNg6eM/oZuzeVv+m/F7MJxy4uLpBIJMjOzq6yPDs7W++Y4rtJpVKEhITg/PnzAKB9X3Z2dpUrx9nZ2ejatave7chkMshkMp3bN+aJb+z9mQv2RT/2Rjf2RT/2Rjf2Rb+7e6PWCNh48AoW7ziDG4Xlt3t+pK0LZj7eCe3c7U1VptHxnNHPWL2p7T7MZio3S0tLdO/eHQkJCdplGo0GCQkJVa4O10StVuP48ePaIOzv7w+5XF5lmwqFAsnJybXeJhEREem27+JNPLH8H0z/9ThuFCoR4GKLb8aF4rv/69GsgjGZF7O5cgwAsbGxGDt2LEJDQ9GjRw8sXboURUVF2tkrxowZAy8vLyxYsAAAMG/ePDz44INo06YN8vLy8NFHH+Hy5ct4/vnnAZTPZDF16lS89957aNu2rXYqN09PTwwePNhUh0lERGTW0m8W44NtqYg7mQUAsLeywKt922JMuB8sLczmuhw1U2YVjocPH47r169j1qxZyMrKQteuXREXFwd3d3cAQHp6OsTi//7R3bp1CxMnTkRWVhZatGiB7t27Y+/evejUqZN2nWnTpqGoqAiTJk1CXl4eHn74YcTFxXGOYyIiojoqKQM+2nEWa/amQ6nWQCwCRof54rV+7Zr0uGJqWswqHANATEwMYmJidL6WmJhY5fknn3yCTz75pMbtiUQizJs3D/PmzTNUiURERM2KIAjYnJKB91IkKFBdAgA83KZ8XHF7OYdPkHkxu3BMREREjcfJjHzM3nISBy/fAiCCr7MNZj7eCX07ulW7Ky2ROWA4JiIiojrLK1bi4x1nsTb5MjQCYGMpQV+5EgvG94SddfUZnYjMBcMxERER1ZpGI+Cng1ewaPsZ5BaVT832eJAHpkW2xZF/d0HGD9yRmWM4JiIiolo5eiUPs7acwNGr+QCAtm52mDuoM3q2doFKpcIRE9dHZAgMx0RERFSj3CIlFsWdxo8Hr0AQADuZBaZGtMXYnn6QSnilmJoWhmMiIiLSSa0RsC75MhbvOIv82yoAwFPdvDC9fwe42XPKU2qaGI6JiIiompQreXhn03GczFAAADp5OGDeoM4I9XM2cWVEDYvhmIiIiLTyb6vw0fbTWJucDkEAHKws8GZUe4wK84VEzKnZqOljOCYiIiIIgoDfjmZg/h+puFFYCqB8CMXbAzrCxY5Ts1HzwXBMRETUzF28XoiZW07g3/M3AQCtXW3x3uBAhLduaeLKiIyP4ZiIiKiZKlGpsTLxAlYmXoBSrYHMQoyX+7TBpEdbw5LzFVMzxXBMRETUDP197jpmbj6BSzeLAQCPtXPFvEGd4dvS1sSVEZkWwzEREVEzkqMowfytqfj9aAYAwM1ehtlPdMaAQDlEIn7gjojhmIiIqBlQawSsTb6Mj+LOoKC0DGIRMCbcD69HtoO9ldTU5RE1GgzHRERETdzZ7AJM/+UYDqfnAQCCvB3xwZBAdPFyNG1hRI0QwzEREVETVVqmxoq/LmBl4nmo1ALsZOVzFj/7IOcsJtKH4ZiIiKgJOnApF9N/OYYL14sAABEd3TB/cBd4OFqbuDKixo3hmIiIqAlRlKiwKO40ftiXDgBwsZNh7pP8wB1RbTEcExERNRE7TmZh5pYTyFaU3+FueKgP3h7QEY42/MAdUW0xHBMREZm5HEUJZv92En+eyAIA+LW0wQdPBaJnaxcTV0ZkfhiOiYiIzJRGI+DHg1fwwbZUFJSUQSIW4YVHA/BK37awkkpMXR6RWWI4JiIiMkNpN4ow/ZdjSE7LBVA+PdvCp4LQydPBxJURmTeGYyIiIjOi1ghY/W8aPtp+BqVlGlhLJXg9sh3GP+TP6dmIDIDhmIiIyEyczynAmz8fw5GKm3k80tYFHwwJhI+zjWkLI2pCGI6JiIgauTK1Bl/8fRFLd56DskwDe5kF3hnYEcMf8OH0bEQGxnBMRETUiJ3OUmDaz8dw7Go+AKB3e1d88FQgb+ZB1EAYjomIiBohlVqD//11AZ/9dQ4qtQAHKwvMfqIznurmxavFRA2I4ZiIiKiROXEtH2/+fAypmQoAQL9O7nh/cBe4OViZuDKipo/hmIiIqJEoLVPjs13nsTLxAso0AlrYSDHnyc54MtiTV4uJjIThmIiIqBE4eiUPb/58FGezCwEAAwLlmPtkF7jay0xcGVHzwnBMRERkQqVlaixLOIeViRegEYCWtpaYP7gLBgR6mLo0omaJ4ZiIiMhETmUoEPtTCk5nFQAAngz2xJwnO8PZ1tLElRE1XwzHRERERlam1mDV7gv4NKF8JoqWtpZ4f0gXRHfh1WIiU2M4JiIiMqLzOYV4/acUHK2YtziqszveHxIIFzuOLSZqDBiOiYiIjECjEfDNv2n4aPsZlJZp4GBlgXmDumBQV85EQdSYMBwTERE1sPSbxXjj56PYn5YLAHisnSs+HBoEuSPnLSZqbBiOiYiIGoggCFi3Px3vb01FsVINW0sJ3n28E0Y84MOrxUSNFMMxERFRA8jMv41pPx/D3+duAADC/J2xeFgwfJxtTFwZEdWE4ZiIiMiABEHAr4evYc7vJ1FQUgaZhRhvRXfAuJ5+EIt5tZiosWM4JiIiMpAbhaV4+9fj2HEqGwDQ1ccJHz8TjNaudiaujIhqi+GYiIjIABJSs/HWL8dwo1AJqUSEqRHt8MKjAbCQiE1dGhHVgdn9i12xYgX8/PxgZWWFsLAw7N+/X++6X375JR555BG0aNECLVq0QERERLX1x40bB5FIVOURHR3d0IdBRERNRFFpGWb8ehwTvj2IG4VKtHe3x5YpD2NK7zYMxkRmyKz+1f7444+IjY3F7NmzcfjwYQQHByMqKgo5OTk6109MTMTIkSPx119/ISkpCT4+PoiMjMS1a9eqrBcdHY3MzEztY/369cY4HCIiMnNH0m9h4LK/sX5/OkQiYOIj/tgS8xA6eTqYujQiqiezGlaxZMkSTJw4EePHjwcArFq1Clu3bsU333yD6dOnV1t/7dq1VZ5/9dVX+OWXX5CQkIAxY8Zol8tkMsjl8oYtnoiImgyVWoPPEs/is7/OQ60R4OlohcXPBKNnaxdTl0ZE98lswrFSqcShQ4cwY8YM7TKxWIyIiAgkJSXVahvFxcVQqVRwdnausjwxMRFubm5o0aIF+vTpg/feew8tW7bUu53S0lKUlpZqnysUCgCASqWCSqWqy2HVS+U+jLEvc8K+6Mfe6Ma+6Mfe6KZSqZBzGxj+RTKOZxQAAJ4IkmPO4x3hYC1t1v3iOaMb+6KfsXtT2/2IBEEQGrgWg8jIyICXlxf27t2L8PBw7fJp06Zh9+7dSE5Ovuc2XnrpJWzfvh0nT56ElVX5XYk2bNgAGxsb+Pv748KFC3j77bdhZ2eHpKQkSCQSnduZM2cO5s6dW235unXrYGPD+SuJiJoiQQD+zRZhy2UxlBoRrCUCngnQoJuLWfwYJWr2iouLMWrUKOTn58PBQf/QJ7O5cny/Fi5ciA0bNiAxMVEbjAFgxIgR2q8DAwMRFBSE1q1bIzExEX379tW5rRkzZiA2Nlb7XKFQaMcz19RsQ1GpVIiPj0e/fv0glUobfH/mgn3Rj73RjX3Rj72p6npBKd7efBKJaRU39PBzwkdPB8GDt3/W4jmjG/uin7F7U/mb/nsxm3Ds4uICiUSC7OzsKsuzs7PvOV548eLFWLhwIXbu3ImgoKAa1w0ICICLiwvOnz+vNxzLZDLIZLJqy6VSqVFPfGPvz1ywL/qxN7qxL/qxN8COk1mY/utx5BYpYWkhxkBvFRaOfwAymaWpS2uUeM7oxr7oZ6ze1HYfZjNbhaWlJbp3746EhATtMo1Gg4SEhCrDLO62aNEizJ8/H3FxcQgNDb3nfq5evYqbN2/Cw8PDIHUTEZF5Kiwtw1s/H8Ok7w8ht0iJjh4O2PRiGHp5CLzTHVETZjZXjgEgNjYWY8eORWhoKHr06IGlS5eiqKhIO3vFmDFj4OXlhQULFgAAPvzwQ8yaNQvr1q2Dn58fsrKyAAB2dnaws7NDYWEh5s6di6FDh0Iul+PChQuYNm0a2rRpg6ioKJMdJxERmdahy7l47cejSM8thkgETHo0ALH92kEsaHDe1MURUYMyq3A8fPhwXL9+HbNmzUJWVha6du2KuLg4uLu7AwDS09MhFv93MXzlypVQKpV4+umnq2xn9uzZmDNnDiQSCY4dO4Zvv/0WeXl58PT0RGRkJObPn69z2AQRETVtZWoNlu86j+W7zkEjAF5O1vj4mWA8GFA+g5FKpTFxhUTU0MwqHANATEwMYmJidL6WmJhY5fmlS5dq3Ja1tTW2b99uoMqIiMicXcktxtQfU3Do8i0AwFMhXpgzqDMcrDhOlKg5MbtwTEREZGhbUq7h3U0nUFBaBnuZBd5/KhBPBnuauiwiMgGGYyIiarYKSlSYteUkNh25BgAI9W2BT4Z3hY8z56wnaq7qNVvF999/j4ceegienp64fPkyAGDp0qXYsmWLQYsjIiJqKIcu38KAZX9j05FrEIuAqRFtsWHSgwzGRM1cncPxypUrERsbiwEDBiAvLw9qtRoA4OTkhKVLlxq6PiIiIoNSawQsSziHZz5PwpXc2/BuYY2NL4ZjakQ7WEjMZoZTImogdf4usHz5cnz55Zd45513qtxeOTQ0FMePHzdocURERIZ0Le82Rn6xD0viz0KtETCoqye2vfoIuvs6m7o0Imok6jzmOC0tDSEhIdWWy2QyFBUVGaQoIiIiQ/vjWAZm/HocBSVlsJNZYP7gzhgS4m3qsoiokalzOPb390dKSgp8fX2rLI+Li0PHjh0NVhgREZEhFJaWYc5vJ/HzoasAgK4+Tlg2IgStWnJsMRFVV+dwHBsbiylTpqCkpASCIGD//v1Yv349FixYgK+++qohaiQiIqqXlCt5eHXDEVy+WQyxCJjSuw1e6dsWUo4tJiI96hyOn3/+eVhbW+Pdd99FcXExRo0aBU9PT3z66acYMWJEQ9RIRERUJ2qNgM/3XMCSHWdRphHg6WiFpSNC0MOfY4uJqGb1mud49OjRGD16NIqLi1FYWAg3NzdD10VERFQvmfm38dqPKdh3MRcAMDDIAx8MDoSjDe90R0T3dl83AbGxsYGNDcdsERFR47D9ZBam/XwM+bdVsLGUYM6TnTGsuzdEIpGpSyMiM1GvD+TV9E3m4sWL91UQERFRXZWWqbFg22ms2XsJABDk7YhPR4TA38XWtIURkdmpczieOnVqlecqlQpHjhxBXFwc3nzzTUPVRUREVCtpN4oQs+4wTmYoAACTHg3AG5HtYWnBD90RUd3VORy/+uqrOpevWLECBw8evO+CiIiIamtLyjW8/etxFCnVaGEjxZJnuqJ3B34Ohojqz2D/re7fvz9++eUXQ22OiIhIr2JlGab9fBSvbkhBkVKNHv7O+PPVRxmMiei+3dcH8u70888/w9mZU+QQEVHDOpNVgJh1h3EupxAiEfByn7Z4pU8bWHDuYiIygDqH45CQkCofyBMEAVlZWbh+/Tr+97//GbQ4IiKiSoIgYMOBK5jz20mUlmngZi/D0hFd0bO1i6lLI6ImpM7hePDgwVWei8ViuLq6olevXujQoYOh6iIiItIqKFHh7U0n8PvRDADAo+1cseSZYLjYyUxcGRE1NXUOx7Nnz26IOoiIiHQ6fjUfMesP4/LNYkjEIrwZ1R6THgmAWMy5i4nI8GoVjhUKRa036ODgUO9iiIiIKgmCgNX/XsKCP1OhUgvwcrLGspEh6O7bwtSlEVETVqtw7OTkdM+7CwmCAJFIBLVabZDCiIio+corVuKNjcewMzUbABDV2R2LhgbzFtBE1OBqFY7/+uuvhq6DiIgIAHDwUi5eWX8EGfklsJSI8e7jHfHcg768BTQRGUWtwvFjjz3W0HUQEVEzp9EIWLn7ApbEn4VaI8DfxRbLR4agi5ejqUsjomak3vMcFxcXIz09HUqlssryoKCg+y6KiKhZ02iAsjJApfrvcedztbp8nco/a/uoaf1KIhEgEkFUVgb3Q4cgEgTAwkK7/M51qj2/+zWJpPy9tfjzRkkZZv5+Gv9ezoe1SIz+Xb0we0gw7GytAEH4b/tERA2szuH4+vXrGD9+PP7880+dr3PMMRGZBUEASkogLSwErl0rD4glJUBpafmj8mt9f9Z2HaWyeri91/M7w6qJWAB40Ij7cwGw8u6F4+74ujJIW1oCMln5nzU96rKOlVX5w9q6/FH5ta5lFhYQK5Xl5w8RNUl1DsdTp05FXl4ekpOT0atXL2zatAnZ2dl477338PHHHzdEjUTU3Gg0QHExUFgIFBWVf13bx+3btV5XKggYYOpjrS2xGJBKyx8SSflDLC5/3Pn1vR661q280isI2odGEJB/6xYcHR2hve9c5et3fq3veeWVarW6PPjr+FMoK0OZqgxCmRoWGjXEqCFwVm6rtBQoKGioLt+TFMATlU90hee7v7axAWxta37UtI5EYrJjJWqu6hyOd+3ahS1btiA0NBRisRi+vr7o168fHBwcsGDBAgwcOLAh6iSixkqjKQ+whYXVHwUF9VteVGTUQxAkEoisrMqvJN795/0us7QsD7QWFv+F28qHrmW6lltYlIdYI1KrVNizbRsGDBgAsdTwM0Rk5N3GqxuO4MClWwCAkT1aYfbADrASQ3+grryyrlRWf1Repa/poWudyiv9t29X//Pur2/frnrFuKSk/HHrlsH7oyWT3TtI29kB9vb6H3e/LuONU4hqUudwXFRUBDc3NwBAixYtcP36dbRr1w6BgYE4fPiwwQskogZQGWgVCiA/v/zPyoe+55XB9e5g25BBViT6LwzY2NT+UXnF7h4PlVSKPxMT0f/JJyFtgABIuu08lY03fj6KvGIV7GQWWPBUIJ4I9vxvhcb6dyEIUBUXY8dvvyHykUcgLSvTHaQr/6z8LUVRke5HTa9VhvDK4Tm5uYY7Dqn03gG6NiHbwaH8T4t6f3yJqFGq8xndvn17nDlzBn5+fggODsbnn38OPz8/rFq1Ch4eHg1RIxFVujPU1iHYSvLz0TsjAxYxMf8FXUOPmRSLy394Vj4qf5jqeuh77e7l1tYN+0EslQoCf7AbjbJMg4V/nsY3/6YBAAK9HPHZqBD4trQ1cWW1JBIBlpYos7EB3N0bLsRXjIevdaCu/E+rrsedr92+Xb59lao8bBsqcNvaAg4OsLC3x6OCAMny5YCjY3l4rvzz7q/vfm5vzyEk1GjU+afCq6++iszMTADlt5KOjo7G2rVrYWlpiTVr1hi6PqKmQRDKf0jV5grtvZbVI9SKAei8d6WFRd1+eN0dXu98bmXFGQVIr8s3i/Dy+iM4djUfAPB/D/njrf7tIbNgIKpGJPpvzLKLi+G2W1ZWPUjXNljrepSWlm+3IqSLMjPRAgDOnatffXZ29/4+dK/vV3Z2Rh+CRE1PncPxs88+q/26e/fuuHz5Mk6fPo1WrVrBxZD/iIkaA0Go+/ADfc8NeaX27lCr6wfFHcvKbGyQnJqKHpGRkDo7//c6Ay0Zwe9HMzDj1+MoLC2Dk40Ui58ORkQnd1OX1fxYWABOTuUPQ1Aqy0Nyxfe6stxcHExIQGi7drAoLq7+fVDf15Uhu3KoVkbG/dVlb1/7//Tre83WliG7GatzOP7nn3/w8MMPa5/b2NigW7duBi2K6L7dGWrre5U2P7/8G78hp9WSSHT/urGuz+sYagWVCjekUqBbt8Y7npOanBKVGnN/P4X1+9MBAA/4tcCnI0Lg6WRt4srIICwtgZYtyx8o/z6TXVAAYcCAun2fKS29d4C+19f5+eVXxoH/rmzfD5GobiFbX+i2NZMhQ1RFncNxnz594OXlhZEjR+LZZ59Fp06dGqIuaq7uFWprCLoW+fnol5MDi8qrGQ0VamvzTVLfOrxSS83EuewCxKw7gjPZBRCJgJjebfBq37awkPBqHN1FJgNcXcsf9VU5Tlvfz4r8/P8ueNR0sSQ/v3x2FEH4b9n9EIthYW+PfpaWsHBzq/tY7MrnNjb82WFEdQ7HGRkZ2LBhA9avX4+FCxciKCgIo0ePxsiRI+Ht7d0QNZI5qPygWEFB/YcdVD7qGWpFAGzuXiiR1P6bz51XCe5+vaE/GEbURAiCgI0Hr2LWbydQotLAxU6GpcO74uG2HHZHDejOcdru9zFkRxDKP7h4P0PoKp9X3JFSlJ9f/rPp+vX61yUW1//q9Z3P+bOsVuocjl1cXBATE4OYmBikpaVh3bp1+PbbbzFjxgw8+uij2LVrV0PUSYZW+Q2gLh++qOlx59RDhlAZauvwP+syGxv8e/w4ekZHQ+riwlBLZGSFpWV4d9NxbE4pHzP6SFsXLHmmK1ztOa8umYnK6SNtbAC5vP7bqfwZm58P1c2b2BsXh4cCA2Fx529Gaxu0K2/xnpdX/rgfd/5s1feB69pM42dv36RvUnNfcxj5+/tj+vTpCA4OxsyZM7F7925D1UX6lJYCly/D4dIliPbu/S/g1jXYFhaW/6/W0Orzv1tdz+vxKyRBpUJeSQnQvj3H1RIZ2Ylr+Xh5/RGk3SiCRCxCbL92mPxYa4jF/M8pNUN3hmwXF+RduAChT5+6/2wShPLp++73Knblb2XV6vKb1hjqxjU2NrWfM1vXcpkM0sJCw9RiQPUOx//++y/Wrl2Ln3/+GSUlJRg0aBAWLFhgyNpIl4MHIX34YfQ25DZtbe89+XttT36OiyJqVgRBwHdJl/H+1lQo1Rp4Olph2cgQhPo5m7o0IvMnEv13J8T7uZdEZcjW98HG2vwW+c7llR9+rLzRTXZ2vcqSAmj71FPAM8/U/9gaQJ3D8YwZM7BhwwZkZGSgX79++PTTTzFo0CDY2FQb7UkNwd4egpUVlDIZLFu2hKiuofbucMs5IYmonvKLVZj2y1FsP1n+gzGiozsWDwuCk42liSsjoiruDNmenvdevyaCUP5b7JrCdG0CdkEBhIICqBphfqxzON6zZw/efPNNPPPMM5zX2BSCglCmUCBu2zYMGDCAt7wlIpM4dPkWXll/BNfybkMqEWFG/44Y/5AfRPzNEVHTJhKVz7xkZXV/M4wAKFOpcG7bNrQ1UGmGUudw/O+//zZEHUREZAY0GgFf/H0RH20/A7VGgG9LGywfGYIgbydTl0ZEZBD39YE8IiJqPm4UliL2p6PYc7Z8Sqongj3xwZAusLfib7CIqOkwu8GmK1asgJ+fH6ysrBAWFob9+/fXuP7GjRvRoUMHWFlZITAwENu2bavyuiAImDVrFjw8PGBtbY2IiAicq+994YmImqi9F25gwKd/Y8/Z67CSirHwqUAsG9GVwZiImhyzCsc//vgjYmNjMXv2bBw+fBjBwcGIiopCTk6OzvX37t2LkSNHYsKECThy5AgGDx6MwYMH48SJE9p1Fi1ahGXLlmHVqlVITk6Gra0toqKiUFJSYqzDIiJqtMrUGiyJP4vRXyUjp6AUbd3ssGXKwxjRoxXHFxNRk2RW4XjJkiWYOHEixo8fj06dOmHVqlWwsbHBN998o3P9Tz/9FNHR0XjzzTfRsWNHzJ8/H926dcNnn30GoPyq8dKlS/Huu+9i0KBBCAoKwnfffYeMjAxs3rzZiEdGRNT45JUCY9YcwrKEcxAEYHioD36LeRjt5famLo2IqMHUORwHBATg5s2b1Zbn5eUhICDAIEXpolQqcejQIURERGiXicViREREICkpSed7kpKSqqwPAFFRUdr109LSkJWVVWUdR0dHhIWF6d0mEVFz8NeZ61h0TIIDl27B1lKCT0d0xYdPB8HasmneEYuIqFKdP5B36dIlqHXcWa20tBTXrl0zSFG63LhxA2q1Gu533TPd3d0dp0+f1vmerKwsnetnZWVpX69cpm8dXUpLS1FaWqp9rlAoAAAqlQoqlaqWR1R/lfswxr7MCfuiH3ujG/tSnbJMgyU7z+Hrfy8DEKGj3A7LRgTDr6Ut+wSeMzVhb3RjX/Qzdm9qu59ah+PffvtN+/X27dvh6Oiofa5Wq5GQkAA/P7/aV2jGFixYgLlz51ZbvmPHDqPeDCU+Pt5o+zIn7It+7I1u7Eu5myXAt+ckuFxYPpb4UbkGg3zzcCp5N06ZuLbGhueMfuyNbuyLfsbqTXFxca3Wq3U4Hjx4MABAJBJh7NixVV6TSqXw8/PDxx9/XPsK68jFxQUSiQTZd92iMDs7G3K5XOd75HJ5jetX/pmdnQ2PO27LmJ2dja5du+qtZcaMGYiNjdU+VygU8PHxQWRkJBwcHOp0XPWhUqkQHx+Pfv368SYgd2Bf9GNvdGNf/vPniSx8suUUCkrK4GBlgfee7ADhSgp7cxeeM/qxN7qxL/oZuzeVv+m/l1qHY41GAwDw9/fHgQMHjH53PEtLS3Tv3h0JCQnaoK7RaJCQkICYmBid7wkPD0dCQgKmTp2qXRYfH4/w8HAA5ccil8uRkJCgDcMKhQLJycmYPHmy3lpkMhlkMlm15VKp1KgnvrH3Zy7YF/3YG92ac19KVGq8t/UUftiXDgDo1soJy0aGwN1Oim1XUpp1b2rCvujH3ujGvuhnrN7Udh91HnOclpZW52IMJTY2FmPHjkVoaCh69OiBpUuXoqioCOPHjwcAjBkzBl5eXliwYAEA4NVXX8Vjjz2Gjz/+GAMHDsSGDRtw8OBBfPHFFwDKr4JPnToV7733Htq2bQt/f3/MnDkTnp6e2gBORNRUnc8pRMy6wzidVQAAmNyrNWL7tYNUIub4SCJqtuocjufNm1fj67Nmzap3MfcyfPhwXL9+HbNmzUJWVha6du2KuLg47Qfq0tPTIRb/NwFHz549sW7dOrz77rt4++230bZtW2zevBldunTRrjNt2jQUFRVh0qRJyMvLw8MPP4y4uDhYWVk12HEQEZnaL4euYuaWEyhWqtHS1hJLhnfFY+1cTV0WEZHJ1Tkcb9q0qcpzlUqFtLQ0WFhYoHXr1g0ajgEgJiZG7zCKxMTEasuGDRuGYcOG6d2eSCTCvHnz7hn6iYiagqLSMszccgK/Hi6fXahn65ZYOrwr3Bx4QYCICKhHOD5y5Ei1ZQqFAuPGjcOQIUMMUhQRERneqQwFYtYfxsXrRRCLgNci2uGl3m0gEfNOd0REleocjnVxcHDA3Llz8cQTT+C5554zxCaJiMhABEHAD8npmP/HKSjLNJA7WOHTEV0RFtDS1KURETU6BgnHAJCfn4/8/HxDbY6IiAwg/7YK0385hj9PlN/YqE8HNyweFgxnW0sTV0ZE1DjVORwvW7asynNBEJCZmYnvv/8e/fv3N1hhRER0f1Ku5CFm3WFcvXUbUokIb0V3wISH/SEScRgFEZE+dQ7Hn3zySZXnYrEYrq6uGDt2LGbMmGGwwoiIqH40GgFf/5OGD+NOo0wjwMfZGstHdkNXHydTl0ZE1OiZ1TzHRERUs9wiJV7/KQV/nbkOABgY6IEFQwPhYMWbDxAR1cZ9jTm+cuUKAMDHx8cgxRARUf3tu3gTr244gmxFKSwtxJj9RCeM6tGKwyiIiOpAfO9VqiorK8PMmTPh6OgIPz8/+Pn5wdHREe+++y7vqEREZAJqjYClO89i1Jf7kK0oRWtXW2yZ8hBGh/kyGBMR1VGdrxy//PLL+PXXX7Fo0SKEh4cDAJKSkjBnzhzcvHkTK1euNHiRRESkW1Z+CV7dcATJabkAgKe7e2Puk51hKzPYZERERM1Knb97rlu3Dhs2bKgyM0VQUBB8fHwwcuRIhmMiIiPZdTobb2w8htwiJWwtJXhvSBcMCfE2dVlERGatzuFYJpPBz8+v2nJ/f39YWnLeTCKihqYs02BR3Gl89U/5B6Q7ezpg+cgQBLjambgyIiLzV+cxxzExMZg/fz5KS0u1y0pLS/H+++8jJibGoMUREVFVl28W4elVe7XBeFxPP/z6Uk8GYyIiA6nzleMjR44gISEB3t7eCA4OBgAcPXoUSqUSffv2xVNPPaVd99dffzVcpUREzdzvRzMw49fjKCwtg6O1FB89HYTIznJTl0VE1KTUORw7OTlh6NChVZZxKjciooZzW6nGvD9OYv3+8ukzQ31bYNnIEHg6WZu4MiKipqfO4Xj16tUNUQcREelwNrsAMesO42x2IUQiIKZ3G7zaty0sJHUeFUdERLVQ5++uffr0QV5eXrXlCoUCffr0MURNRETNniAIWL8/HU9+9g/OZhfC1V6GHyaE4fXI9gzGREQNqM5XjhMTE6FUKqstLykpwd9//22QooiImjNFiQpv/3ocfxzLBAA82s4VHw8Lhqu9zMSVERE1fbUOx8eOHdN+ferUKWRlZWmfq9VqxMXFwcvLy7DVERE1M0ev5OHl9UeQnlsMC7EIb0S1x6RHAiAW8053RETGUOtw3LVrV4hEIohEIp3DJ6ytrbF8+XKDFkdE1FxoNAK+/icNH8adRplGgHcLaywbGYJurVqYujQiomal1uE4LS0NgiAgICAA+/fvh6urq/Y1S0tLuLm5QSKRNEiRRERN2c3CUryx8Sj+OnMdANC/ixwLhwbB0Vpq4sqIiJqfWodjX19fAIBGo2mwYoiImpukCzcx9ccjyFaUwtJCjFmPd8LosFYQiTiMgojIFOr8gbzvvvuuxtfHjBlT72KIiJoLtUbApwnnsHzXOQgC0NrVFp+N6oaOHg6mLo2IqFmrczh+9dVXqzxXqVQoLi6GpaUlbGxsGI6JiO4hI+82pv6Ygv1puQCAYd29MXdQZ9hY1vlbMhERGVidvxPfunWr2rJz585h8uTJePPNNw1SFBFRUxV3IhNv/XIc+bdVsLWU4P0hgRgcwpl+iIgaC4Ncpmjbti0WLlyIZ599FqdPnzbEJomImpTyW0Cfwvr96QCAIG9HLBsRAj8XWxNXRkREdzLY7/AsLCyQkZFhqM0RETUZpzIUeGXDEZzPKQQAvPBYAF7v1x6WFrzTHRFRY1PncPzbb79VeS4IAjIzM/HZZ5/hoYceMlhhRETmThAEfLv3Ej748zSUZRq42svwyTNd8XBbF1OXRkREetQ5HA8ePLjKc5FIBFdXV/Tp0wcff/yxoeoiIjJrNwtLMe3nY0g4nQMA6NPBDR89HYSWdrwFNBFRY1bncMx5jomIavbPuRuI/SkFOQXlcxe/3b8Dxvb049zFRERmoN5jjm/cuAEAcHHhrweJiABAWabBx/Fn8MWeixAEoI2bHZaPDOHcxUREZqROnwbJy8vDlClT4OLiAnd3d7i7u8PFxQUxMTHIy8troBKJiBq/SzeK8PSqvfh8d3kwHtmjFX6PeZjBmIjIzNT6ynFubi7Cw8Nx7do1jB49Gh07dgQAnDp1CmvWrEFCQgL27t2LFi1aNFixRESN0a+Hr2Lm5hMoUqrhaC3Fh0MDEd3Fw9RlERFRPdQ6HM+bNw+Wlpa4cOEC3N3dq70WGRmJefPm4ZNPPjF4kUREjVFBiQozN5/A5pTyaSx7+Dtj6fCu8HSyNnFlRERUX7UeVrF582YsXry4WjAGALlcjkWLFmHTpk0GLY6IqLE6kn4LA5f9g80pGZCIRYjt1w7rJz7IYExEZOZqfeU4MzMTnTt31vt6ly5dkJWVZZCiiIgaK7VGwKrdF/BJ/FmUaQR4OVlj2ciu6O7rbOrSiIjIAGodjl1cXHDp0iV4e3vrfD0tLQ3OzvzhQERN17W823jtxxTsT8sFADwe5IH3hwTC0Vpq4sqIiMhQaj2sIioqCu+88w6USmW110pLSzFz5kxER0cbtDgiosZiS8o1RC/dg/1pubCxlGDR0CAsHxnCYExE1MTU6QN5oaGhaNu2LaZMmYIOHTpAEASkpqbif//7H0pLS/H99983ZK1EREanKFFh1h0fuuvq44Slw7vCz8XWxJUREVFDqHU49vb2RlJSEl566SXMmDEDgiAAKL99dL9+/fDZZ5/Bx8enwQolIjK2/Wm5eO3HFFzLuw2xCIjp0xYv92kDqaROU8QTEZEZqdMd8vz9/fHnn3/i1q1bOHfuHACgTZs2HGtMRE2KSq3B0p1nsTLxAjQC0MrZBp8M74ruvpzHnYioqavX7aNbtGiBHj16GLoWIiKTu3i9EFN/TMGxq/kAgKe7e2POk51hJ6vXt0siIjIz/G5PRARAEASs338F8/84hduq8jvdLXgqEAMCeac7IqLmxGwGzuXm5mL06NFwcHCAk5MTJkyYgMLCwhrXf/nll9G+fXtYW1ujVatWeOWVV5Cfn19lPZFIVO2xYcOGhj4cImpEbhYpMen7Q3h703HcVqnRs3VLxE19hMGYiKgZMpsrx6NHj0ZmZibi4+OhUqkwfvx4TJo0CevWrdO5fkZGBjIyMrB48WJ06tQJly9fxosvvoiMjAz8/PPPVdZdvXp1lWnonJycGvJQiKgRSb0lwnuf7cX1QiUsJWK8GdUeEx72h1gsMnVpRERkAmYRjlNTUxEXF4cDBw4gNDQUALB8+XIMGDAAixcvhqenZ7X3dOnSBb/88ov2eevWrfH+++/j2WefRVlZGSws/jt0JycnyOXyhj8QImo0SlRqvL/1NL4/LQGgRFs3O3w6IgSdPB1MXRoREZmQWYTjpKQkODk5aYMxAEREREAsFiM5ORlDhgyp1Xby8/Ph4OBQJRgDwJQpU/D8888jICAAL774IsaPHw+RSP9Vo9LSUpSWlmqfKxQKAIBKpYJKparLodVL5T6MsS9zwr7ox95UdSpTgTd+Po5zOUUAgNE9vDA9ugOspBL2qALPGd3YF/3YG93YF/2M3Zva7scswnFWVhbc3NyqLLOwsICzszOysrJqtY0bN25g/vz5mDRpUpXl8+bNQ58+fWBjY4MdO3bgpZdeQmFhIV555RW921qwYAHmzp1bbfmOHTtgY2NTq3oMIT4+3mj7Mifsi37NvTdqAUi4JkLcVTHUggj2UgGjW2vQUXIZu+Ivm7q8Rqm5nzP6sC/6sTe6sS/6Gas3xcXFtVrPpOF4+vTp+PDDD2tcJzU19b73o1AoMHDgQHTq1Alz5syp8trMmTO1X4eEhKCoqAgfffRRjeF4xowZiI2NrbJ9Hx8fREZGwsGh4X8lq1KpEB8fj379+kEq5a1rK7Ev+rE3wOWbxXjzl+M4cqX8Q7n9Orph9oC2OLR3d7Puiz48Z3RjX/Rjb3RjX/Qzdm8qf9N/LyYNx6+//jrGjRtX4zoBAQGQy+XIycmpsrysrAy5ubn3HCtcUFCA6Oho2NvbY9OmTfdsflhYGObPn4/S0lLIZDKd68hkMp2vSaVSo574xt6fuWBf9GuOvREEAWuT0/H+1lTcVqlhL7PA3EGdMSTEC2VlZQCaZ19qi73RjX3Rj73RjX3Rz1i9qe0+TBqOXV1d4erqes/1wsPDkZeXh0OHDqF79+4AgF27dkGj0SAsLEzv+xQKBaKioiCTyfDbb7/BysrqnvtKSUlBixYt9AZjIjIfWfklmPbLMew5ex0A0LN1S3w0LBheTtYmroyIiBorsxhz3LFjR0RHR2PixIlYtWoVVCoVYmJiMGLECO1MFdeuXUPfvn3x3XffoUePHlAoFIiMjERxcTF++OEHKBQK7eV0V1dXSCQS/P7778jOzsaDDz4IKysrxMfH44MPPsAbb7xhysMlIgP47WgGZm4+gfzbKsgsxJjevwPGhvtxijYiIqqRWYRjAFi7di1iYmLQt29fiMViDB06FMuWLdO+rlKpcObMGe1g68OHDyM5ORkA0KZNmyrbSktLg5+fH6RSKVasWIHXXnsNgiCgTZs2WLJkCSZOnGi8AyMig8orVmLmlpP4/WgGACDI2xFLnglGGzd7E1dGRETmwGzCsbOzs94bfgCAn58fBEHQPu/Vq1eV57pER0dXufkHEZm3xDM5mPbzMeQUlEIiFuHlPm0wpXcbSCVmczNQIiIyMbMJx0RE+hQry/D+1lSsTU4HAAS42uKTZ7oi2MfJtIUREZHZYTgmIrN26PItvP5TCi7dLB9SNf4hP7xVcUMPIiKiumI4JiKzVFqmxtKd5/D57gvQCICHoxUWDwvGQ21cTF0aERGZMYZjIjI7R6/k4Y2NR3EupxAA8FSIF2Y/2RmO1pxDlIiI7g/DMRGZjdIyNZYlnMOq3Reh1ghwsZPhgyFdENm55psBERER1RbDMRGZheNX8/HGxqM4k10AAHgy2BNzn+yMFraWJq6MiIiaEoZjImrUlGUaLN91Dv9LvFBxtdgS7w0ORHQXXi0mIiLDYzgmokbrxLXyq8Wns8qvFj8e5IF5g7rAmVeLiYiogTAcE1GjoyzT4LO/zmPFX+eh1ghoaWuJ+YO7YECgh6lLIyKiJo7hmIgalZMZ+Xhj4zGkZioAAAMDPTBvUGe0tJOZuDIiImoOGI6JqFFQqTVY8dd5fLbrPMo0AlrYSDF/cBc8HuRp6tKIiKgZYTgmIpM7fjUf037572px/y5yzB/cBS68WkxEREbGcExEJlOiUuOTnWfx1d9pUFdcLZ47qAueCPKASCQydXlERNQMMRwTkUkkX7yJ6b8eR9qNIgDAE8GemP1EJ14tJiIik2I4JiKjKihR4cO40/hhXzoAwN1BhvcGB6JfJ3cTV0ZERMRwTERGtOt0Nt7ZdAKZ+SUAgJE9fDBjQEc4WElNXBkREVE5hmMianC5RUrM+/0kNqdkAABaOdtg4VOB6NnGxcSVERERVcVwTEQNRhAE/H4sE3N+O4ncIiXEImDCw/6I7dce1pYSU5dHRERUDcMxETWIzPzbmLn5BHam5gAA2rvb48Ong9DVx8m0hREREdWA4ZiIDEqjEbB2fzoW/XkaBaVlkEpEiOndFpN7tYalhdjU5REREdWI4ZiIDOZ0lgIzfj2OI+l5AICuPk5Y9HQQ2rnbm7YwIiKiWmI4JqL7VqJS49OEc/hyz0WUaQTYWkrwZlR7PBfuB4mYN/MgIiLzwXBMRPfl73PX8c6mE0jPLQYARHV2x5wnO8PD0drElREREdUdwzER1cuNwlLM/+MUtlRMzyZ3sMK8QZ0R2Vlu4sqIiIjqj+GYiOpEoxGw8dAVfLDtNPJvqyASAWPD/fBGVHvYyfgthYiIzBt/khFRrZ3PKcDbv57A/ku5AIBOHg5Y8FQggjk9GxERNREMx0R0TyUqNf6XeAErE89DpRZgLZUgtl87jH/IDxYSTs9GRERNB8MxEdUo8UwO5vx2Epduln/grk8HN8wb1BneLWxMXBkREZHhMRwTkU4Zebcx7/dTiDuZBQBws5dh9hOdMSBQDpGI07MREVHTxHBMRFUoyzT45t80LEs4h2KlGhKxCON6+mFqRFvYW0lNXR4REVGDYjgmIq2kCzcxc8sJnM8pBAA84NcC8wd3QQe5g4krIyIiMg6GYyJCjqIE729L1c5Z3NLWEjMGdMTQbl4cQkFERM0KwzFRM1am1uC7pMv4JP4sCkrLIBIBz4b54o3I9nC04RAKIiJqfhiOiZqpQ5dv4d3NJ5CaqQAABHs7Yv7gLgjydjJtYURERCbEcEzUzOQoSvBh3Bn8cvgqAMDRWopp0e0x4oFWkIg5hIKIiJo3hmOiZqJMA3z5TxpW/HURRUo1AOCZUG+8Fd0BLe1kJq6OiIiocWA4JmoGEs9ex8KjElwvOQcACPZxwpwnOiGkVQsTV0ZERNS4MBwTNWEXrxdi/h+n8NeZ6wBEcLGzxPT+HfFUiBfEHEJBRERUDcMxURNUUKLCZ7vO45t/06BSC5BKRHjEXY3F4x+Gs721qcsjIiJqtBiOiZoQjUbAr0eu4cO407heUAoA6N3eFTOi2yF1/27YW/GfPBERUU34k5KoiUi5kofZv53E0St5AAB/F1vMfLwj+nRwh0qlQqppyyMiIjILDMdEZu5a3m0sijutvbudraUEL/dti/EP+UFmITFxdUREROZFbOoCais3NxejR4+Gg4MDnJycMGHCBBQWFtb4nl69ekEkElV5vPjii1XWSU9Px8CBA2FjYwM3Nze8+eabKCsra8hDITKIwtIyfLT9NPosTtQG46HdvPHXG73w4mOtGYyJiIjqwWyuHI8ePRqZmZmIj4+HSqXC+PHjMWnSJKxbt67G902cOBHz5s3TPrexsdF+rVarMXDgQMjlcuzduxeZmZkYM2YMpFIpPvjggwY7FqL7UabW4KeDV7Ek/gxuFCoBAGH+znh3YCcEejuauDoiIiLzZhbhODU1FXFxcThw4ABCQ0MBAMuXL8eAAQOwePFieHp66n2vjY0N5HK5ztd27NiBU6dOYefOnXB3d0fXrl0xf/58vPXWW5gzZw4sLS0b5HiI6mvP2et4f2sqzmQXACgfVzyjfwf06+QOkYhTsxEREd0vswjHSUlJcHJy0gZjAIiIiIBYLEZycjKGDBmi971r167FDz/8ALlcjieeeAIzZ87UXj1OSkpCYGAg3N3dtetHRUVh8uTJOHnyJEJCQnRus7S0FKWlpdrnCoUCAKBSqaBSqe7rWGujch/G2Jc5acp9OZddiIXbz2DPuZsAAEdrC8T0bo1RD/jA0kJ8z6FATbk394N90Y+90Y190Y+90Y190c/YvantfswiHGdlZcHNza3KMgsLCzg7OyMrK0vv+0aNGgVfX194enri2LFjeOutt3DmzBn8+uuv2u3eGYwBaJ/XtN0FCxZg7ty51Zbv2LGjyrCNhhYfH2+0fZmTptSXAhXw5xUx9maLIEAEiUjAI3IBkV4lsL11Ejt3nKzT9ppSbwyJfdGPvdGNfdGPvdGNfdHPWL0pLi6u1XomDcfTp0/Hhx9+WOM6qan1n4Bq0qRJ2q8DAwPh4eGBvn374sKFC2jdunW9tztjxgzExsZqnysUCvj4+CAyMhIODg713m5tqVQqxMfHo1+/fpBKpQ2+P3PRlPpSrCzD6r3p+PKfNBSVqgEA/Tq6YVpUW/i1tK3z9ppSbwyJfdGPvdGNfdGPvdGNfdHP2L2p/E3/vZg0HL/++usYN25cjesEBARALpcjJyenyvKysjLk5ubqHU+sS1hYGADg/PnzaN26NeRyOfbv319lnezsbACocbsymQwymazacqlUatQT39j7Mxfm3BeVWoMfD1zBpwnntDfxCPRyxLsDOyIsoOV9b9+ce9OQ2Bf92Bvd2Bf92Bvd2Bf9jNWb2u7DpOHY1dUVrq6u91wvPDwceXl5OHToELp37w4A2LVrFzQajTbw1kZKSgoAwMPDQ7vd999/Hzk5OdphG/Hx8XBwcECnTp3qeDRE9ScIAv48kYWPtp9B2o0iAEArZxu8EdUejwd6QCzmh+2IiIiMwSzGHHfs2BHR0dGYOHEiVq1aBZVKhZiYGIwYMUI7U8W1a9fQt29ffPfdd+jRowcuXLiAdevWYcCAAWjZsiWOHTuG1157DY8++iiCgoIAAJGRkejUqROee+45LFq0CFlZWXj33XcxZcoUnVeGiRpC0oWbWBh3Wntnu5a2lnilb1uM7NEKlhZmMxU5ERFRk2AW4Rgon3UiJiYGffv2hVgsxtChQ7Fs2TLt6yqVCmfOnNEOtra0tMTOnTuxdOlSFBUVwcfHB0OHDsW7776rfY9EIsEff/yByZMnIzw8HLa2thg7dmyVeZGJGkpqpgIfxp1G4pnrAAAbSwkmPhKAiY8GwE5mNv80iYiImhSz+Qns7Oxc4w0//Pz8IAiC9rmPjw927959z+36+vpi27ZtBqmRqDau3irGkh1nsSnlGgQBsBCLMCqsFV7u0xau9vyNBRERkSmZTTgmMnfXC0rxv8TzWLsvHUq1BgDweJAH3ohsDz+Xus9AQURERIbHcEzUwG4VKfH5nov4du8l3FaVT8vWs3VLTO/fAUHeTqYtjoiIiKpgOCZqIAUlKnz9Txq+/jsNBaXld7Dr6uOENyLb46E2LXm7ZyIiokaI4ZjIwIqVZfh272V8vucC8orLb1XZ0cMBb0S2Q58ObgzFREREjRjDMZGBlKjUWL8/HSv+uoAbheU38GjtaovYfu3Rv4uccxUTERGZAYZjovukUmuw8eBVLN91Dpn5JQDKb+AxNaItBnX1goShmIiIyGwwHBPVk7JMg58PXcWKv87jWt5tAICHoxVe7tMWw0K9IZXwBh5ERETmhuGYqI5Ky9T46eBVrPzrPDIqrhS72MnwUq/WGBXWClZSiYkrJCIiovpiOCaqpRKVGj8euIKViReQpSgPxW72Mrz4GEMxERFRU8FwTHQPJSo11iWnY9XuC8gpKP+gndzBCi/1bo1nQn0YiomIiJoQhmMiPYqVZRWh+KJ29glPRytM7t0Gz4R6Q2bBUExERNTUMBwT3UVRosIP+y7j67/TcLNICQDwcrLGlN5t8HR3b1ha8IN2RERETRXDMVGF6wWl+ObfNPyQdFl7R7tWzjaI6d0GQ7p5cfYJIiKiZoDhmJq9K7nF+GLPRfx08ApKyzQAgLZudpjcqzWeCPZkKCYiImpGGI6p2TqTVYCViefx+7FMqDUCAKCrjxNe6tUaER3deUc7IiKiZojhmJqdQ5dvYWXieexMzdEue6StC17q1QYPBjhDJGIoJiIiaq4YjqlZ0GgEJJ7Nwee7LyI5LRcAIBIBA7p44MXHWiPQ29HEFRIREVFjwHBMTVqJSo1NR67hq78v4sL1IgCAVCLCUyHeeOGxAAS42pm4QiIiImpMGI6pSbpZWIof9qXju6RL2unY7GUWGBnWCuMf8oOHo7WJKyQiIqLGiOGYmpTs28DM305h05EM7cwTXk7WGP+QH4Y/4AN7K6mJKyQiIqLGjOGYzJ4gCEhOy8UXuy9g1xkLAFcBAEHejnj+kQAM6CKHBadjIyIiolpgOCazVVqmxrbjmVj97yUcu5oPABBBQJ8Obpj0aGv08OfME0RERFQ3DMdkdnIUJfghOR3rktNxo7AUACCzEOOpEE8EqC5h3NAQSKUcPkFERER1x3BMZkEQBBy5koc1/17CtuOZKKu4aYfcwQrPPtgKo8J8YW8pwrZtl0xbKBEREZk1hmNq1ErL1Nh6LBNr9v43dAIAQn1bYNxDfojqLNfe3lmlUpmqTCIiImoiGI6pUcpWlGDtvstYtz8dNwrLp2KztBDjyWBPjOvphy5evGkHERERGR7DMTUagiAg6cJNrE1Ox/aTWVWGTjwX7osRD/igpZ3MxFUSERFRU8ZwTCZ3q0iJXw5fxbrkdFy8UaRd/oBfC4zr6Y/Izu7aoRNEREREDYnhmExCEAQcTr+FtfvS8cfxTCgrbthhaynBkG5eGNXDF508HUxcJRERETU3DMdkVAUlKmw+cg1rk9NxOqtAu7yzpwNGh/niya6esJPxtCQiIiLTYAqhBicIAo5ezcePB9KxJSUDxUo1AMBKKsYTQZ4Y/aAvgr0decMOIiIiMjmGY2owNwtLsenINWw8eBVnsv+7StzWzQ6jwlrhqRBvONrwZh1ERETUeDAck0GpNQL2nL2Onw5ewc7UbKjU5TNOyCzE6N9FjpE9WvG2zkRERNRoMRyTQVy+WYSfDl7BL4euIUtRol0e5O2IZ0J98ESwJxyteZWYiIiIGjeGY6q320o1/jyRiR8PXEFyWq52uZONFENCvPBMqA86enDGCSIiIjIfDMdUJxqNgH0Xb+KXw9cQdyITRRUfrhOJgEfaumJ4qA8iOrlBZiExcaVEREREdcdwTLVyNrsAvx6+hi0p15CZ/9+wCR9nawzr7oOnu3vD08nahBUSERER3T+GY9Irp6AEv6VkYNORaziZodAud7CywMAgTzzVzQuhvi344ToiIiJqMhiOqYrbSjV2nMrCpiPX8Pe5G1BrymebsBCL0Ku9G4Z280LvDm6wknLYBBERETU9DMeE0jI1/j57A38cy0D8qWztOGIA6OrjhKe6eeHxIE8421qasEoiIiKihsdw3EyVqTXYe+Em/jiWgbgTWVCUlGlf825hjadCvDA4xAsBrnYmrJKIiIjIuMwmHOfm5uLll1/G77//DrFYjKFDh+LTTz+FnZ3u8Hbp0iX4+/vrfO2nn37CsGHDAEDneNn169djxIgRhiu+kdBoBBy4lIvfj2Xgz+NZuFmk1L7mZi/DwCAPPBHsiRAfJ44jJiIiombJbMLx6NGjkZmZifj4eKhUKowfPx6TJk3CunXrdK7v4+ODzMzMKsu++OILfPTRR+jfv3+V5atXr0Z0dLT2uZOTk8HrNxVBEJByJQ9/HMvE1mOZVW7Q4Wxrif5d5Hgi2BMP+DlDImYgJiIioubNLMJxamoq4uLicODAAYSGhgIAli9fjgEDBmDx4sXw9PSs9h6JRAK5XF5l2aZNm/DMM89Uu9rs5ORUbV1zptYIOHT5Fv48kYntJ7KQccfUa/ZWFojuXB6Ie7ZuCQuJ2ISVEhERETUuZhGOk5KS4OTkpA3GABAREQGxWIzk5GQMGTLknts4dOgQUlJSsGLFimqvTZkyBc8//zwCAgLw4osvYvz48TUOKygtLUVpaan2uUJRPs2ZSqWCSqWqy6HVS+U+7tyXSq1BctotbD+VjZ2pObhR+N+QCRtLCfp2cMXAQDkebuMCmUV5IBY0aqg0ajQVuvpC5dgb3dgX/dgb3dgX/dgb3dgX/Yzdm9ruxyzCcVZWFtzc3Koss7CwgLOzM7Kysmq1ja+//hodO3ZEz549qyyfN28e+vTpAxsbG+zYsQMvvfQSCgsL8corr+jd1oIFCzB37txqy3fs2AEbG5ta1WMI27bH40yeCEdzRTiRK0Kx+r9Aby0R0MVZQLCzgPaOZbCUXEXpxatIuGi08kwmPj7e1CU0WuyNbuyLfuyNbuyLfuyNbuyLfsbqTXFxca3WM2k4nj59Oj788MMa10lNTb3v/dy+fRvr1q3DzJkzq71257KQkBAUFRXho48+qjEcz5gxA7GxsdrnCoUCPj4+iIyMhIODw33XW5Oi0jLsOp2N7/86jjMFUhTfMe2as60U/Tq6I6qTG8L8nWFp0byGTKhUKsTHx6Nfv36QSqWmLqdRYW90Y1/0Y290Y1/0Y290Y1/0M3ZvKn/Tfy8mDcevv/46xo0bV+M6AQEBkMvlyMnJqbK8rKwMubm5tRor/PPPP6O4uBhjxoy557phYWGYP38+SktLIZPJdK4jk8l0viaVShv8Lzf57E3E/nwSgBiAGh6OVojqLEd0Fzk/VFfBGH8P5oq90Y190Y+90Y190Y+90Y190c9YvantPkwajl1dXeHq6nrP9cLDw5GXl4dDhw6he/fuAIBdu3ZBo9EgLCzsnu//+uuv8eSTT9ZqXykpKWjRooXeYGxqj7Z1RQd3O3hJFHjx8QfR3c8FYgZiIiIiIoMwi9+7d+zYEdHR0Zg4cSL279+Pf//9FzExMRgxYoR2popr166hQ4cO2L9/f5X3nj9/Hnv27MHzzz9fbbu///47vvrqK5w4cQLnz5/HypUr8cEHH+Dll182ynHVh7WlBL/H9MSTvhp09XFiMCYiIiIyILP4QB4ArF27FjExMejbt6/2JiDLli3Tvq5SqXDmzJlqg62/+eYbeHt7IzIysto2pVIpVqxYgddeew2CIKBNmzZYsmQJJk6c2ODHQ0RERESNj9mEY2dnZ703/AAAPz8/CIJQbfkHH3yADz74QOd7oqOjq9z8g4iIiIiaN7MYVkFEREREZAwMx0REREREFRiOiYiIiIgqMBwTEREREVVgOCYiIiIiqsBwTERERERUgeGYiIiIiKgCwzERERERUQWGYyIiIiKiCgzHREREREQVGI6JiIiIiCowHBMRERERVWA4JiIiIiKqYGHqAoiIiKh5UqvVUKlUpi6jQalUKlhYWKCkpARqtdrU5TQqhu6NVCqFRCK57+0wHBMREZFRCYKArKws5OXlmbqUBicIAuRyOa5cuQKRSGTqchqVhuiNk5MT5HL5fW2P4ZiIiIiMqjIYu7m5wcbGpkmHRo1Gg8LCQtjZ2UEs5mjWOxmyN4IgoLi4GDk5OQAADw+Pem+L4ZiIiIiMRq1Wa4Nxy5YtTV1Og9NoNFAqlbCysmI4vouhe2NtbQ0AyMnJgZubW72HWPBviYiIiIymcoyxjY2NiSuhpqjyvLqfsewMx0RERGR0TXkoBZmOIc4rhmMiIiIiogoMx0REREREFRiOiYiIiIxgzpw56Nq1a4Nse82aNXBycmqQbTc3DMdERERERBUYjomIiMikBEFAsbLM6A9BEOpUZ2lpKV555RW4ubnBysoKDz/8MA4cOABA95XbzZs3a6cTW7NmDebOnYujR49CJBJBJBJhzZo1AMo/RLZy5Ur0798f1tbWCAgIwM8//6zdTmJiIkQiUZWbpqSkpEAkEuHSpUtITEzE+PHjkZ+fr932nDlz6vz3QOU4zzERERGZ1G2VGp1mbTf6fk/Ni4KNZe2j0LRp0/DLL7/g22+/ha+vLxYtWoSoqCicP3/+nu8dPnw4Tp06hbi4OOzcuRMA4OjoqH195syZWLhwIT799FN8//33GDFiBI4fP46OHTvec9s9e/bE0qVLMWvWLJw5cwYAYGdnV+vjoqp45ZiIiIjoHoqKirBy5Up89NFH6N+/Pzp16oQvv/wS1tbW+Prrr+/5fmtra9jZ2cHCwgJyuRxyuVx70woAGDZsGJ5//nm0a9cO8+fPR2hoKJYvX16r2iwtLeHo6AiRSKTdNsNx/fHKMREREZmUtVSCU/OiTLLf2rpw4QJUKhUeeugh7TKpVIoePXogNTUVrq6u91VLeHh4tecpKSn3tU2qH4ZjIiIiMimRSFSn4Q2NkVgsrjaG+X7u0nb3tgFU2b6htk3VcVgFERER0T20bt0alpaW+Pfff7XLVCoVDhw4gE6dOsHV1RUFBQUoKirSvn73lV9LS0uo1Wqd29+3b1+155XjjSuvSmdmZtZr21Q35v3fNCIiIiIjsLW1xeTJk/Hmm2/C2dkZrVq1wqJFi1BcXIwJEyZAEATY2Njg7bffxiuvvILk5GTtbBSV/Pz8kJaWhpSUFHh7e8Pe3h4ymQwAsHHjRoSGhuLhhx/G2rVrsX//fu1Y5jZt2sDHxwdz5szB+++/j7Nnz+Ljjz+utu3CwkIkJCQgODgYNjY2sLGxMUpvmhpeOSYiIiKqhYULF2Lo0KF47rnn0K1bN5w/fx7bt29HixYt4OzsjB9++AHbtm1DYGAg1q9fX206taFDhyI6Ohq9e/eGq6sr1q9fr31t7ty52LBhA4KCgvDdd99h/fr16NSpE4Dysc3r16/H6dOnERQUhA8//BDvvfdelW337NkTL774IoYPHw5XV1csWrSowfvRVPHKMREREVEtWFlZYdmyZVi2bJnO1wcPHozBgwdXWTZhwgQoFAoAgEwmqzJ/8Z08PT2xY8cOvft+6KGHcOzYsSrL7h7jvHLlSqxcufJeh0H3wCvHREREREQVGI6JiIiIiCpwWAURERGRCdX1NtbUsHjlmIiIiIioAsMxEREREVEFhmMiIiIiogoMx0REREREFRiOiYiIiIgqMBwTEREREVUwm3D8/vvvo2fPnrCxsYGTk1Ot3iMIAmbNmgUPDw9YW1sjIiIC586dq7JObm4uRo8eDQcHBzg5OWHChAkoLCxsgCMgIiIicyYIAiZNmgRnZ2eIRCKkpKSgV69emDp1qknquXTpkraO+yUSibB58+b73s69mLJftWU24VipVGLYsGGYPHlyrd+zaNEiLFu2DKtWrUJycjJsbW0RFRWFkpIS7TqjR4/GyZMnER8fjz/++AN79uzBpEmTGuIQiIiIyIzFxcVhzZo1+OOPP5CZmYkuXbrg119/xfz58+9ru8YKpjXJzMxE//79Dba9xMREiEQi5OXlVVluiH41NLO5CcjcuXMBAGvWrKnV+oIgYOnSpXj33XcxaNAgAMB3330Hd3d3bN68GSNGjEBqairi4uJw4MABhIaGAgCWL1+OAQMGYPHixfD09GyQYyEiIiLzc+HCBXh4eKBnz57aZc7OzjW+R6lUNnRZ90WpVMLS0hJyudwo+7tXvxoDs7lyXFdpaWnIyspCRESEdpmjoyPCwsKQlJQEAEhKSoKTk5M2GANAREQExGIxkpOTjV4zERFRsyQIQFGR8R91uDPduHHj8PLLLyM9PR0ikQh+fn4Aqg8T8PPzw/z58zFmzBg4ODjghRdegFKpxMsvvwwPDw9YWVnB19cXCxYs0K4PAEOGDKmyXV3279+PkJAQWFlZITQ0FEeOHKm2zokTJ9C/f3/Y2dnB3d0dzz33HG7cuKF9vVevXoiJicHUqVPh4uKCqKgoAFWvXvfs2RNvvfVWle1ev34dUqkUe/bsAQB8//33CA0Nhb29PeRyOUaNGoWcnBwA5cM9evfuDQBo0aIFRCIRxo0bV61f77zzTpWcVik4OBjz5s3TPv/qq6/QsWNHWFlZoUOHDvjf//6nt0eGYDZXjusqKysLAODu7l5lubu7u/a1rKwsuLm5VXndwsICzs7O2nV0KS0tRWlpqfa5QqEAAKhUKqhUKoPUX5PKfRhjX+aEfdGPvdGNfdGPvdGNfdGvtr1RqVQQBAEajQYajaZ8YVERxA4ODV1iNRqFArC1rdW6n3zyCQICAvDll18iOTkZEolEW3/l8VRavHgxZs6ciZkzZ0IQBHz++ef4/fffsWHDBrRq1QpXrlzBlStXoNFokJycDLlcjq+//hrR0dFVtnunwsJCPP7444iIiMB3332HtLQ0vPbaa+XHUdHLvLw89OnTBxMmTMDHH3+M27dvY/r06XjmmWewc+dO7ba+/fZbvPjii/j777+1779zO6NGjcJHH32EDz74ACKRCACwYcMGeHp64qGHHoJGo0FpaSnmzp2L9u3bIycnB2+88QbGjh2LrVu3wsvLCxs3bsSwYcOQmpoKBwcHWFtbV+vXyJEjsXDhQpw/fx5t2rQBAJw8eRLHjh3Dxo0bodFosHbtWsyaNQvLli1DSEgIjhw5ghdeeAHW1tYYO3Zs9b9TjQaCIEClUkEikVR5rbb/bk0ajqdPn44PP/ywxnVSU1PRoUMHI1VUOwsWLNAO87jTjh07YGNjY7Q64uPjjbYvc8K+6Mfe6Ma+6Mfe6Ma+6Hev3lhYWEAul6OwsPC/IQdFRXBq+NKqUSgUgFpdq3VFIhGkUilEIpH2Z71CoUBZWRmUSqX2QplGo8EjjzyC559/Xvveq1evwt/fH0FBQRCJRGjRogWCgoKgUCggk8kAADKZrMp277ZmzRqo1WosWbIEVlZW8PHxwZQpU/D666+jqKgICoUCS5YsQWBgYJWrvkuXLkWXLl1w+PBhtGnTBmVlZQgICMA777xTtQ8Abt++DYVCgejoaLz22mvYvn27dgjJ999/jyFDhqCgoAAA8PTTT2vf7+Ligvfffx99+vRBRkYG7OzsYGVlBQCwtrbW269WrVqhS5cu+Pbbb/Hmm28CAFavXo3Q0FC4ublBoVBg9uzZmDdvnvYKc0REBCZPnoyVK1diyJAh1fqkVCpx+/Zt7NmzB2VlZVVeKy4urumvWMuk4fj111/XXmbXJyAgoF7brhw7k52dDQ8PD+3y7OxsdO3aVbtO5a8AKpWVlSE3N7fGsTczZsxAbGys9rlCoYCPjw8iIyPhYIT/+apUKsTHx6Nfv36QSqUNvj9zwb7ox97oxr7ox97oxr7oV9velJSU4MqVK1UCFOzty6/iGpmDjQ1QcWW0NqysrCAWi6v8rLewsIClpaV2mVgsxoMPPqh9LggCRo0ahaeeegphYWGIiorCwIEDERkZWWXb1tbWNWaIS5cuITg4uMpvvCuHLtja2sLBwQGnT5/G33//DW9v72rvz87ORrdu3WBhYYEHHnhA574qa3BwcEC/fv2wZcsWREdHIy0tDQcOHMCXX36pfd+hQ4cwd+5cHDt2DLdu3dJeFc7Ly4Onp6c2ENvb2+vtlyAIGDZsGNavX4/58+dDEARs2rQJr732GhwcHFBUVIS0tDS88sorVYaulJWVwdHRUecxlJSUwNraGo8++uh/51cFXf/p0MWk4djV1RWurq4Nsm1/f3/I5XIkJCRow7BCoUBycrJ2xovw8HDk5eXh0KFD6N69OwBg165d0Gg0CAsL07ttmUym/Z/enaRSqVG/WRp7f+aCfdGPvdGNfdGPvdGNfdHvXr1Rq9UQiUQQi8UQi+/46JO9vRGquz+VQwyq1F2x/M5ldnZ22ucajQbBwcG4cOECtm/fjp07d2LEiBGIiIjAzz//rH1PtX7UYt+VX1e+t6ioCE888YTO38p7eHho17+zvjvdWcOzzz6LV155BZ999hk2bNiAwMBABAcHAwCKiorQv39/REVFYe3atXB1dUV6ejqioqJQVlZWZTu6jquyXxqNBkOHDsWcOXOQkpKC27dv48qVKxgxYgTEYrH2Su+XX35ZLZdJJBK9x1B5lf/u87C2/2bNZsxxeno6cnNzkZ6eDrVarZ3Tr02bNrCzswMAdOjQAQsWLNAOap86dSree+89tG3bFv7+/pg5cyY8PT0xePBgAEDHjh0RHR2NiRMnYtWqVVCpVIiJicGIESM4UwUREREZjIODA4YPH47hw4fj6aefRnR0NHJzc+Hs7AypVAr1PYZ3dOzYEd9//z1KSkq0V0T37dtXZZ1u3brhl19+gZ+fHyws7i/iDRo0CJMmTUJcXBzWrVuHMWPGaF87ffo0bt68iYULF8LHxwcAcPDgwSrvt7S0BIB7HpeXlxcee+wxrF27Frdv30a/fv20V8fd3d3h6emJixcvYvTo0fd1PHVhNrNVzJo1CyEhIZg9ezYKCwsREhKCkJCQKn8ZZ86cQX5+vvb5tGnT8PLLL2PSpEl44IEHUFhYiLi4uCqX2deuXYsOHTqgb9++GDBgAB5++GF88cUXRj02IiIiarpWrFiB9evX4/Tp0zh79iw2btwIuVyuvamZn58fEhISkJWVhVu3buncxqhRoyASiTBx4kScOnUK27Ztw+LFi6usM2XKFOTm5mLkyJE4cOCA9mr1+PHj7xlS72Zra4vBgwdj5syZSE1NxciRI7WvtWrVCpaWlli+fDkuXryI3377rdrcxb6+vhCJRPjjjz9w/fr1Gm+wNnLkSGzYsAEbN26sFoLnzp2LBQsWYNmyZTh79iyOHz+O1atXY8mSJXU6nrowm3C8Zs0aCIJQ7dGrVy/tOoIgVBnDLBKJMG/ePGRlZaGkpAQ7d+5Eu3btqmzX2dkZ69atQ0FBAfLz8/HNN99or0QTERER3S87OzssXrwYoaGheOCBB3Dp0iVs27ZNOyzg448/Rnx8PHx8fBASEqJ3G7///juOHz+OkJAQvPPOO9WGT3h6euLff/+FWq1GZGQkAgMDMXXqVDg5OdU4ZEOf0aNH4+jRo3jkkUfQqlUr7XJXV1esWbMGGzduRKdOnbBw4cJqQd3Lywtz587F9OnT4e7ujpiYGL37efrpp3Hz5k0UFxdrf7tf6fnnn8dXX32F1atXIzAwEI899hjWrFkDf3//Oh9PbYkEoQ6T/JFOCoUCjo6OyM/PN9oH8rZt24YBAwZwzNsd2Bf92Bvd2Bf92Bvd2Bf9atubkpISpKWlwd/fv9oHppoijUYDhUIBBweHegXUpqwhelPT+VXbvMa/JSIiIiKiCgzHREREREQVGI6JiIiIiCowHBMRERERVWA4JiIiIqPjfADUEAxxXjEcExERkdFUzmRRefczIkOqPK/uZzYZs7lDHhEREZk/iUQCJycn5OTkAABsbGy0t0ZuijQaDZRKJUpKSjiV210M2RtBEFBcXIycnBw4OTlBIpHUe1sMx0RERGRUcrkcALQBuSkTBAG3b9+GtbV1k/5PQH00RG+cnJy051d9MRwTERGRUYlEInh4eMDNzQ0qlcrU5TQolUqFPXv24NFHH+WNY+5i6N5IpdL7umJcieGYiIiITEIikRgkzDRmEokEZWVlsLKyYji+S2PtDQe/EBERERFVYDgmIiIiIqrAcExEREREVIFjjg2gcsJphUJhlP2pVCoUFxdDoVA0qjE6psa+6Mfe6Ma+6Mfe6Ma+6Mfe6Ma+6Gfs3lTmtHvdKITh2AAKCgoAAD4+PiauhIiIiIhqUlBQAEdHR72viwTev/G+aTQaZGRkwN7e3ihzGCoUCvj4+ODKlStwcHBo8P2ZC/ZFP/ZGN/ZFP/ZGN/ZFP/ZGN/ZFP2P3RhAEFBQUwNPTs8abjvDKsQGIxWJ4e3sbfb8ODg78h6YD+6Ife6Mb+6Ife6Mb+6Ife6Mb+6KfMXtT0xXjSvxAHhERERFRBYZjIiIiIqIKDMdmSCaTYfbs2ZDJZKYupVFhX/Rjb3RjX/Rjb3RjX/Rjb3RjX/RrrL3hB/KIiIiIiCrwyjERERERUQWGYyIiIiKiCgzHREREREQVGI6JiIiIiCowHDdC77//Pnr27AkbGxs4OTnpXCc9PR0DBw6EjY0N3Nzc8Oabb6KsrKzG7ebm5mL06NFwcHCAk5MTJkyYgMLCwgY4AuNITEyESCTS+Thw4IDe9/Xq1ava+i+++KIRKzcOPz+/ase5cOHCGt9TUlKCKVOmoGXLlrCzs8PQoUORnZ1tpIob3qVLlzBhwgT4+/vD2toarVu3xuzZs6FUKmt8X1M9Z1asWAE/Pz9YWVkhLCwM+/fvr3H9jRs3okOHDrCyskJgYCC2bdtmpEqNY8GCBXjggQdgb28PNzc3DB48GGfOnKnxPWvWrKl2blhZWRmpYuOZM2dOtePs0KFDje9p6ucLoPv7rEgkwpQpU3Su35TPlz179uCJJ56Ap6cnRCIRNm/eXOV1QRAwa9YseHh4wNraGhERETh37tw9t1vX71OGwHDcCCmVSgwbNgyTJ0/W+bparcbAgQOhVCqxd+9efPvtt1izZg1mzZpV43ZHjx6NkydPIj4+Hn/88Qf27NmDSZMmNcQhGEXPnj2RmZlZ5fH888/D398foaGhNb534sSJVd63aNEiI1VtXPPmzatynC+//HKN67/22mv4/fffsXHjRuzevRsZGRl46qmnjFRtwzt9+jQ0Gg0+//xznDx5Ep988glWrVqFt99++57vbWrnzI8//ojY2FjMnj0bhw8fRnBwMKKiopCTk6Nz/b1792LkyJGYMGECjhw5gsGDB2Pw4ME4ceKEkStvOLt378aUKVOwb98+xMfHQ6VSITIyEkVFRTW+z8HBocq5cfnyZSNVbFydO3eucpz//POP3nWbw/kCAAcOHKjSk/j4eADAsGHD9L6nqZ4vRUVFCA4OxooVK3S+vmjRIixbtgyrVq1CcnIybG1tERUVhZKSEr3brOv3KYMRqNFavXq14OjoWG35tm3bBLFYLGRlZWmXrVy5UnBwcBBKS0t1buvUqVMCAOHAgQPaZX/++acgEomEa9euGbx2U1AqlYKrq6swb968Gtd77LHHhFdffdU4RZmQr6+v8Mknn9R6/by8PEEqlQobN27ULktNTRUACElJSQ1QYeOwaNEiwd/fv8Z1muI506NHD2HKlCna52q1WvD09BQWLFigc/1nnnlGGDhwYJVlYWFhwgsvvNCgdZpSTk6OAEDYvXu33nX0fZ9uambPni0EBwfXev3meL4IgiC8+uqrQuvWrQWNRqPz9eZyvgAQNm3apH2u0WgEuVwufPTRR9pleXl5gkwmE9avX693O3X9PmUovHJshpKSkhAYGAh3d3ftsqioKCgUCpw8eVLve5ycnKpcUY2IiIBYLEZycnKD12wMv/32G27evInx48ffc921a9fCxcUFXbp0wYwZM1BcXGyECo1v4cKFaNmyJUJCQvDRRx/VOPTm0KFDUKlUiIiI0C7r0KEDWrVqhaSkJGOUaxL5+flwdna+53pN6ZxRKpU4dOhQlb9rsViMiIgIvX/XSUlJVdYHyr/vNPVzA8A9z4/CwkL4+vrCx8cHgwYN0vt92NydO3cOnp6eCAgIwOjRo5Genq533eZ4viiVSvzwww/4v//7P4hEIr3rNZfz5U5paWnIysqqck44OjoiLCxM7zlRn+9ThmLRoFunBpGVlVUlGAPQPs/KytL7Hjc3tyrLLCws4OzsrPc95ubrr79GVFQUvL29a1xv1KhR8PX1haenJ44dO4a33noLZ86cwa+//mqkSo3jlVdeQbdu3eDs7Iy9e/dixowZyMzMxJIlS3Sun5WVBUtLy2rj3N3d3ZvMOXK38+fPY/ny5Vi8eHGN6zW1c+bGjRtQq9U6v4+cPn1a53v0fd9pqueGRqPB1KlT8dBDD6FLly5612vfvj2++eYbBAUFIT8/H4sXL0bPnj1x8uTJe34vMidhYWFYs2YN2rdvj8zMTMydOxePPPIITpw4AXt7+2rrN7fzBQA2b96MvLw8jBs3Tu86zeV8uVvl33tdzon6fJ8yFIZjI5k+fTo+/PDDGtdJTU295wccmoP69Orq1avYvn07fvrpp3tu/85x1oGBgfDw8EDfvn1x4cIFtG7duv6FG0FdehMbG6tdFhQUBEtLS7zwwgtYsGBBo7tV5/2qzzlz7do1REdHY9iwYZg4cWKN7zXnc4bqZ8qUKThx4kSN42oBIDw8HOHh4drnPXv2RMeOHfH5559j/vz5DV2m0fTv31/7dVBQEMLCwuDr64uffvoJEyZMMGFljcfXX3+N/v37w9PTU+86zeV8MXcMx0by+uuv1/i/SQAICAio1bbkcnm1T2tWziggl8v1vufuAexlZWXIzc3V+x5TqU+vVq9ejZYtW+LJJ5+s8/7CwsIAlF9FbOxB537Oo7CwMJSVleHSpUto3759tdflcjmUSiXy8vKqXD3Ozs5udOfI3eral4yMDPTu3Rs9e/bEF198Uef9mdM5o4uLiwskEkm1mUhq+ruWy+V1Wt+cxcTEaD+0XNereVKpFCEhITh//nwDVdc4ODk5oV27dnqPszmdLwBw+fJl7Ny5s86/TWou50vl33t2djY8PDy0y7Ozs9G1a1ed76nP9ylDYTg2EldXV7i6uhpkW+Hh4Xj//feRk5OjHSoRHx8PBwcHdOrUSe978vLycOjQIXTv3h0AsGvXLmg0Gu0P+sairr0SBAGrV6/GmDFjIJVK67y/lJQUAKjyD7axup/zKCUlBWKxuNrwmkrdu3eHVCpFQkIChg4dCgA4c+YM0tPTq1zpaIzq0pdr166hd+/e6N69O1avXg2xuO4fvTCnc0YXS0tLdO/eHQkJCRg8eDCA8mEECQkJiImJ0fme8PBwJCQkYOrUqdpl8fHxjf7cqAtBEPDyyy9j06ZNSExMhL+/f523oVarcfz4cQwYMKABKmw8CgsLceHCBTz33HM6X28O58udVq9eDTc3NwwcOLBO72su54u/vz/kcjkSEhK0YVihUCA5OVnvzFz1+T5lMA36cT+ql8uXLwtHjhwR5s6dK9jZ2QlHjhwRjhw5IhQUFAiCIAhlZWVCly5dhMjISCElJUWIi4sTXF1dhRkzZmi3kZycLLRv3164evWqdll0dLQQEhIiJCcnC//884/Qtm1bYeTIkUY/PkPbuXOnAEBITU2t9trVq1eF9u3bC8nJyYIgCML58+eFefPmCQcPHhTS0tKELVu2CAEBAcKjjz5q7LIb1N69e4VPPvlESElJES5cuCD88MMPgqurqzBmzBjtOnf3RhAE4cUXXxRatWol7Nq1Szh48KAQHh4uhIeHm+IQGsTVq1eFNm3aCH379hWuXr0qZGZmah93rtMczpkNGzYIMplMWLNmjXDq1Clh0qRJgpOTk3YWnOeee06YPn26dv1///1XsLCwEBYvXiykpqYKs2fPFqRSqXD8+HFTHYLBTZ48WXB0dBQSExOrnBvFxcXade7uy9y5c4Xt27cLFy5cEA4dOiSMGDFCsLKyEk6ePGmKQ2gwr7/+upCYmCikpaUJ//77rxARESG4uLgIOTk5giA0z/OlklqtFlq1aiW89dZb1V5rTudLQUGBNq8AEJYsWSIcOXJEuHz5siAIgrBw4ULByclJ2LJli3Ds2DFh0KBBgr+/v3D79m3tNvr06SMsX75c+/xe36caCsNxIzR27FgBQLXHX3/9pV3n0qVLQv/+/QVra2vBxcVFeP311wWVSqV9/a+//hIACGlpadplN2/eFEaOHCnY2dkJDg4Owvjx47WB25yNHDlS6Nmzp87X0tLSqvQuPT1dePTRRwVnZ2dBJpMJbdq0Ed58800hPz/fiBU3vEOHDglhYWGCo6OjYGVlJXTs2FH44IMPhJKSEu06d/dGEATh9u3bwksvvSS0aNFCsLGxEYYMGVIlOJq71atX6/y3ded1guZ0zixfvlxo1aqVYGlpKfTo0UPYt2+f9rXHHntMGDt2bJX1f/rpJ6Fdu3aCpaWl0LlzZ2Hr1q1Grrhh6Ts3Vq9erV3n7r5MnTpV20N3d3dhwIABwuHDh41ffAMbPny44OHhIVhaWgpeXl7C8OHDhfPnz2tfb47nS6Xt27cLAIQzZ85Ue605nS+VuePuR+XxazQaYebMmYK7u7sgk8mEvn37VuuZr6+vMHv27CrLavo+1VBEgiAIDXttmoiIiIjIPHCeYyIiIiKiCgzHREREREQVGI6JiIiIiCowHBMRERERVWA4JiIiIiKqwHBMRERERFSB4ZiIiIiIqALDMRERNbhx48ZpbwFLRNSYMRwTEZmYqYLjmjVr4OTkZPT9EhE1ZgzHREREREQVGI6JiBqZXr164ZVXXsG0adPg7OwMuVyOOXPmVFlHJBJh5cqV6N+/P6ytrREQEICff/5Z+3piYiJEIhHy8vK0y1JSUiASiXDp0iUkJiZi/PjxyM/Ph0gkgkgkqrYPADh79ixEIhFOnz5dZfknn3yC1q1bAwDUajUmTJgAf39/WFtbo3379vj0009rPEY/Pz8sXbq0yrKuXbtWqSEvLw/PP/88XF1d4eDggD59+uDo0aM1bpeI6H4xHBMRNULffvstbG1tkZycjEWLFmHevHmIj4+vss7MmTMxdOhQHD16FKNHj8aIESOQmppaq+337NkTS5cuhYODAzIzM5GZmYk33nij2nrt2rVDaGgo1q5dW2X52rVrMWrUKACARqOBt7c3Nm7ciFOnTmHWrFl4++238dNPP9Xz6MsNGzYMOTk5+PPPP3Ho0CF069YNffv2RW5u7n1tl4ioJgzHRESNUFBQEGbPno22bdtizJgxCA0NRUJCQpV1hg0bhueffx7t2rXD/PnzERoaiuXLl9dq+5aWlnB0dIRIJIJcLodcLoednZ3OdUePHo3169drn589exaHDh3C6NGjAQBSqRRz585FaGgo/P39MXr0aIwfP/6+wvE///yD/fv3Y+PGjQgNDUXbtm2xePFiODk5VblCTkRkaAzHRESNUFBQUJXnHh4eyMnJqbIsPDy82vPaXjmuixEjRuDSpUvYt28fgPKrxt26dUOHDh2066xYsQLdu3eHq6sr7Ozs8MUXXyA9Pb3e+zx69CgKCwvRsmVL2NnZaR9paWm4cOHCfR8TEZE+FqYugIiIqpNKpVWei0QiaDSaWr9fLC6/9iEIgnaZSqWqVy1yuRx9+vTBunXr8OCDD2LdunWYPHmy9vUNGzbgjTfewMcff4zw8HDY29vjo48+QnJyco313Vnb3fUVFhbCw8MDiYmJ1d7LGTaIqCExHBMRmal9+/ZhzJgxVZ6HhIQAAFxdXQEAmZmZaNGiBYDyD+TdydLSEmq1ulb7Gj16NKZNm4aRI0fi4sWLGDFihPa1f//9Fz179sRLL72kXXavq7uurq7IzMzUPlcoFEhLS9M+79atG7KysmBhYQE/P79a1UhEZAgcVkFEZKY2btyIb775BmfPnsXs2bOxf/9+xMTEAADatGkDHx8fzJkzB+fOncPWrVvx8ccfV3m/n58fCgsLkZCQgBs3bqC4uFjvvp566ikUFBRg8uTJ6N27Nzw9PbWvtW3bFgcPHsT27dtx9uxZzJw5EwcOHKix9j59+uD777/H33//jePHj2Ps2LGQSCTa1yMiIhAeHo7Bgwdjx44duHTpEvbu3Yt33nkHBw8erE+7iIhqheGYiMhMzZ07Fxs2bEBQUBC+++47rF+/Hp06dQJQPixj/fr1OH36NIKCgvDhhx/ivffeq/L+nj174sUXX8Tw4cPh6uqKRYsW6d2Xvb09nnjiCe3MGHd64YUX8NRTT2H48OEICwvDzZs3q1xF1mXGjBl47LHH8Pjjj2PgwIEYPHiwdmo4oHwYybZt2/Doo49i/PjxaNeuHUaMGIHLly/D3d29rq0iIqo1kXD3oC8iImr0RCIRNm3axFsyExEZGK8cExERERFVYDgmIiIiIqrA2SqIiMwQR8QRETUMXjkmIiIiIqrAcExEREREVIHhmIiIiIioAsMxEREREVEFhmMiIiIiogoMx0REREREFRiOiYiIiIgqMBwTEREREVVgOCYiIiIiqvD/V9RIOJNNVC0AAAAASUVORK5CYII=\n",
         "text/plain": "<Figure size 800x600 with 1 Axes>"
        },
        "metadata": {},
        "output_type": "display_data"
       }
      ]
     }
    },
    "2c8dd88df97042b59e04e70e8e47ae89": {
     "model_module": "@jupyter-widgets/controls",
     "model_module_version": "1.5.0",
     "model_name": "VBoxModel",
     "state": {
      "_dom_classes": [
       "widget-interact"
      ],
      "_model_module": "@jupyter-widgets/controls",
      "_model_module_version": "1.5.0",
      "_model_name": "VBoxModel",
      "_view_count": null,
      "_view_module": "@jupyter-widgets/controls",
      "_view_module_version": "1.5.0",
      "_view_name": "VBoxView",
      "box_style": "",
      "children": [
       "IPY_MODEL_47d1c6384ff84b1d82ad55914d8159b2",
       "IPY_MODEL_b932e5f84b004a6d87e092c3e2489f03",
       "IPY_MODEL_dbd097aa16694372b95b9511057a0713"
      ],
      "layout": "IPY_MODEL_738b9e200488441ba53dcc6d57bbf8e4"
     }
    },
    "47d1c6384ff84b1d82ad55914d8159b2": {
     "model_module": "@jupyter-widgets/controls",
     "model_module_version": "1.5.0",
     "model_name": "DropdownModel",
     "state": {
      "_dom_classes": [],
      "_model_module": "@jupyter-widgets/controls",
      "_model_module_version": "1.5.0",
      "_model_name": "DropdownModel",
      "_options_labels": [
       "Linear",
       "Sigmoid",
       "Hyperbolic tangent"
      ],
      "_view_count": null,
      "_view_module": "@jupyter-widgets/controls",
      "_view_module_version": "1.5.0",
      "_view_name": "DropdownView",
      "description": "Activation function",
      "description_tooltip": null,
      "disabled": false,
      "index": 2,
      "layout": "IPY_MODEL_076b4a90a97448a8a399505a8cc3f798",
      "style": "IPY_MODEL_9b97dd77783341a1a0d7de50ad5b7aff"
     }
    },
    "4aa369b0b03a48e7a9c0539664d59769": {
     "model_module": "@jupyter-widgets/controls",
     "model_module_version": "1.5.0",
     "model_name": "SliderStyleModel",
     "state": {
      "_model_module": "@jupyter-widgets/controls",
      "_model_module_version": "1.5.0",
      "_model_name": "SliderStyleModel",
      "_view_count": null,
      "_view_module": "@jupyter-widgets/base",
      "_view_module_version": "1.2.0",
      "_view_name": "StyleView",
      "description_width": "",
      "handle_color": null
     }
    },
    "738b9e200488441ba53dcc6d57bbf8e4": {
     "model_module": "@jupyter-widgets/base",
     "model_module_version": "1.2.0",
     "model_name": "LayoutModel",
     "state": {
      "_model_module": "@jupyter-widgets/base",
      "_model_module_version": "1.2.0",
      "_model_name": "LayoutModel",
      "_view_count": null,
      "_view_module": "@jupyter-widgets/base",
      "_view_module_version": "1.2.0",
      "_view_name": "LayoutView",
      "align_content": null,
      "align_items": null,
      "align_self": null,
      "border": null,
      "bottom": null,
      "display": null,
      "flex": null,
      "flex_flow": null,
      "grid_area": null,
      "grid_auto_columns": null,
      "grid_auto_flow": null,
      "grid_auto_rows": null,
      "grid_column": null,
      "grid_gap": null,
      "grid_row": null,
      "grid_template_areas": null,
      "grid_template_columns": null,
      "grid_template_rows": null,
      "height": null,
      "justify_content": null,
      "justify_items": null,
      "left": null,
      "margin": null,
      "max_height": null,
      "max_width": null,
      "min_height": null,
      "min_width": null,
      "object_fit": null,
      "object_position": null,
      "order": null,
      "overflow": null,
      "overflow_x": null,
      "overflow_y": null,
      "padding": null,
      "right": null,
      "top": null,
      "visibility": null,
      "width": null
     }
    },
    "9afff5af63344b7dabe8d8465232bc00": {
     "model_module": "@jupyter-widgets/base",
     "model_module_version": "1.2.0",
     "model_name": "LayoutModel",
     "state": {
      "_model_module": "@jupyter-widgets/base",
      "_model_module_version": "1.2.0",
      "_model_name": "LayoutModel",
      "_view_count": null,
      "_view_module": "@jupyter-widgets/base",
      "_view_module_version": "1.2.0",
      "_view_name": "LayoutView",
      "align_content": null,
      "align_items": null,
      "align_self": null,
      "border": null,
      "bottom": null,
      "display": null,
      "flex": null,
      "flex_flow": null,
      "grid_area": null,
      "grid_auto_columns": null,
      "grid_auto_flow": null,
      "grid_auto_rows": null,
      "grid_column": null,
      "grid_gap": null,
      "grid_row": null,
      "grid_template_areas": null,
      "grid_template_columns": null,
      "grid_template_rows": null,
      "height": null,
      "justify_content": null,
      "justify_items": null,
      "left": null,
      "margin": null,
      "max_height": null,
      "max_width": null,
      "min_height": null,
      "min_width": null,
      "object_fit": null,
      "object_position": null,
      "order": null,
      "overflow": null,
      "overflow_x": null,
      "overflow_y": null,
      "padding": null,
      "right": null,
      "top": null,
      "visibility": null,
      "width": null
     }
    },
    "9b97dd77783341a1a0d7de50ad5b7aff": {
     "model_module": "@jupyter-widgets/controls",
     "model_module_version": "1.5.0",
     "model_name": "DescriptionStyleModel",
     "state": {
      "_model_module": "@jupyter-widgets/controls",
      "_model_module_version": "1.5.0",
      "_model_name": "DescriptionStyleModel",
      "_view_count": null,
      "_view_module": "@jupyter-widgets/base",
      "_view_module_version": "1.2.0",
      "_view_name": "StyleView",
      "description_width": ""
     }
    },
    "a3070ae5675d44109ca052b8f0a086a3": {
     "model_module": "@jupyter-widgets/base",
     "model_module_version": "1.2.0",
     "model_name": "LayoutModel",
     "state": {
      "_model_module": "@jupyter-widgets/base",
      "_model_module_version": "1.2.0",
      "_model_name": "LayoutModel",
      "_view_count": null,
      "_view_module": "@jupyter-widgets/base",
      "_view_module_version": "1.2.0",
      "_view_name": "LayoutView",
      "align_content": null,
      "align_items": null,
      "align_self": null,
      "border": null,
      "bottom": null,
      "display": null,
      "flex": null,
      "flex_flow": null,
      "grid_area": null,
      "grid_auto_columns": null,
      "grid_auto_flow": null,
      "grid_auto_rows": null,
      "grid_column": null,
      "grid_gap": null,
      "grid_row": null,
      "grid_template_areas": null,
      "grid_template_columns": null,
      "grid_template_rows": null,
      "height": null,
      "justify_content": null,
      "justify_items": null,
      "left": null,
      "margin": null,
      "max_height": null,
      "max_width": null,
      "min_height": null,
      "min_width": null,
      "object_fit": null,
      "object_position": null,
      "order": null,
      "overflow": null,
      "overflow_x": null,
      "overflow_y": null,
      "padding": null,
      "right": null,
      "top": null,
      "visibility": null,
      "width": null
     }
    },
    "b932e5f84b004a6d87e092c3e2489f03": {
     "model_module": "@jupyter-widgets/controls",
     "model_module_version": "1.5.0",
     "model_name": "FloatSliderModel",
     "state": {
      "_dom_classes": [],
      "_model_module": "@jupyter-widgets/controls",
      "_model_module_version": "1.5.0",
      "_model_name": "FloatSliderModel",
      "_view_count": null,
      "_view_module": "@jupyter-widgets/controls",
      "_view_module_version": "1.5.0",
      "_view_name": "FloatSliderView",
      "continuous_update": true,
      "description": "Weight",
      "description_tooltip": null,
      "disabled": false,
      "layout": "IPY_MODEL_a3070ae5675d44109ca052b8f0a086a3",
      "max": 2,
      "min": -2,
      "orientation": "horizontal",
      "readout": true,
      "readout_format": ".2f",
      "step": 0.01,
      "style": "IPY_MODEL_4aa369b0b03a48e7a9c0539664d59769",
      "value": 0.1
     }
    },
    "dbd097aa16694372b95b9511057a0713": {
     "model_module": "@jupyter-widgets/output",
     "model_module_version": "1.0.0",
     "model_name": "OutputModel",
     "state": {
      "_dom_classes": [],
      "_model_module": "@jupyter-widgets/output",
      "_model_module_version": "1.0.0",
      "_model_name": "OutputModel",
      "_view_count": null,
      "_view_module": "@jupyter-widgets/output",
      "_view_module_version": "1.0.0",
      "_view_name": "OutputView",
      "layout": "IPY_MODEL_9afff5af63344b7dabe8d8465232bc00",
      "msg_id": "",
      "outputs": []
     }
    }
   }
  }
 },
 "nbformat": 4,
 "nbformat_minor": 0
}
