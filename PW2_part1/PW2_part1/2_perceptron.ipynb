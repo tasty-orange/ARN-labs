{
 "cells": [
  {
   "cell_type": "markdown",
   "metadata": {
    "id": "3eBV1a6o8crb"
   },
   "source": [
    "# Perceptron\n",
    "Perceptrons are the building blocks of the most common type of artificial neural network: the Multi-Layer Perceptron. In this notebook you will explore how the output of a perceptron changes with respect to its inputs for different activation functions and different weight connections."
   ]
  },
  {
   "cell_type": "markdown",
   "metadata": {
    "id": "05D5PgYy8crg"
   },
   "source": [
    "# Loading the packages"
   ]
  },
  {
   "cell_type": "code",
   "execution_count": 1,
   "metadata": {
    "id": "m9tRFyN28crg"
   },
   "outputs": [],
   "source": [
    "import numpy as np\n",
    "import matplotlib.pyplot as pl\n",
    "from ipywidgets import interact, widgets\n",
    "\n",
    "%matplotlib inline"
   ]
  },
  {
   "cell_type": "markdown",
   "metadata": {
    "id": "oa1RJuO48cri"
   },
   "source": [
    "# Definition of some activation functions"
   ]
  },
  {
   "cell_type": "markdown",
   "metadata": {
    "id": "n0lp_o478crj"
   },
   "source": [
    "Linear\n",
    "$$output = neta$$\n",
    "\n",
    "Sigmoid\n",
    "$$output = \\frac {1}{1 + e^{-neta}}$$\n",
    "\n",
    "Hyperbolic tangent\n",
    "$$output = \\frac {e^{neta} - e^{-neta}}{e^{neta} + e^{-neta}}$$\n",
    "\n",
    "Gaussian\n",
    "$$output = e^{-neta^{2}}$$"
   ]
  },
  {
   "cell_type": "code",
   "execution_count": 2,
   "metadata": {
    "id": "OQVVjxaU8crj"
   },
   "outputs": [],
   "source": [
    "def linear(neta):\n",
    "    '''Linear activation function'''\n",
    "    output = neta\n",
    "    return output\n",
    "\n",
    "def sigmoid(neta):\n",
    "    '''Sigmoidal activation function'''\n",
    "    output = 1 / (1 + np.exp(-neta))\n",
    "    return output\n",
    "\n",
    "def htan(neta):\n",
    "    '''Hyperbolic activation function'''\n",
    "    exp = np.exp(neta)\n",
    "    m_exp = np.exp(-neta)\n",
    "    output = (exp - m_exp ) / (exp + m_exp)\n",
    "    return output\n",
    "\n",
    "activation_functions_dict = {'Linear': linear, 'Sigmoid': sigmoid, 'Hyperbolic tangent': htan}"
   ]
  },
  {
   "cell_type": "markdown",
   "metadata": {
    "id": "RDFl0qKw8crk"
   },
   "source": [
    "## Perceptron"
   ]
  },
  {
   "cell_type": "raw",
   "metadata": {
    "id": "zeQQeDyX8crk"
   },
   "source": [
    "            ______________\n",
    "           /              \\\n",
    "x __w_x__ j                l\n",
    "  _______ | f_act(I.W + b) |----- output\n",
    "y   w_y   l                j\n",
    "           \\______________/\n",
    "Where:\n",
    "x = input x\n",
    "y = input y\n",
    "b = bias\n",
    "f_act = activation function\n",
    "I = vector of inputs\n",
    "W = vector of weights"
   ]
  },
  {
   "cell_type": "markdown",
   "metadata": {
    "id": "mjM9g7fF8crl"
   },
   "source": [
    "$$output = f\\_act(\\sum_{i=0}^{1}{(I_{i} * W_{i})} + b)$$"
   ]
  },
  {
   "cell_type": "code",
   "execution_count": 3,
   "metadata": {
    "id": "GALD5uJT8crl"
   },
   "outputs": [],
   "source": [
    "def perceptron(input_values, weights, bias, activation_function):\n",
    "    '''Computes the output of a perceptron\n",
    "    :param input_values: inputs to the perceptron\n",
    "    :param weights: perceptron parameters (multiply inputs)\n",
    "    :param bias: perceptron parameter (adds to inputs)\n",
    "    :param activation_function: activation function to apply to the weighted sum of inputs\n",
    "    :return: perceptron output'''\n",
    "    neta = np.dot(input_values, weights) + bias\n",
    "    output = activation_function(neta)\n",
    "    return output"
   ]
  },
  {
   "cell_type": "markdown",
   "metadata": {
    "id": "e_Fa4q0W8crm"
   },
   "source": [
    "## Functions to plot the Perceptron output"
   ]
  },
  {
   "cell_type": "code",
   "execution_count": 7,
   "metadata": {
    "id": "jn176P0p8crn"
   },
   "outputs": [],
   "source": [
    "input_x = np.arange(-1.2, 1.2, 0.1)\n",
    "input_y = np.arange(-1.2, 1.2, 0.1)\n",
    "\n",
    "input_x_matrix, input_y_matrix = np.meshgrid(input_x, input_y)\n",
    "inputs_xy = np.concatenate((input_x_matrix.flatten()[:,np.newaxis], input_y_matrix.flatten()[:,np.newaxis]), axis=1)\n",
    "\n",
    "def plot_perceptron(weight_x, weight_y, bias, activation_function_index):\n",
    "    weights = np.array([weight_x, weight_y])\n",
    "\n",
    "    activation_function = activation_functions_dict.get(list(activation_functions_dict.keys())[activation_function_index])\n",
    "    output_values = perceptron(inputs_xy, weights, bias, activation_function)\n",
    "\n",
    "    output_matrix = np.reshape(output_values, input_x_matrix.shape)\n",
    "\n",
    "    pl.figure(figsize=(8,6))\n",
    "    pl.imshow(np.flipud(output_matrix), interpolation='None', extent=(-1.2,1.2,-1.2,1.2), vmin=-1.0, vmax=1.0)\n",
    "    pl.xlabel('x')\n",
    "    pl.ylabel('y')\n",
    "    pl.colorbar()\n",
    "    pl.grid()\n",
    "    pl.show()"
   ]
  },
  {
   "cell_type": "code",
   "metadata": {
    "id": "hcHQhsIe8cro",
    "jupyter": {
     "is_executing": true
    }
   },
   "source": [
    "def create_controls():\n",
    "    weight_x_slider = widgets.FloatSlider(\n",
    "        value=0.5,\n",
    "        min=-1.0,\n",
    "        max=1.0,\n",
    "        step=0.01,\n",
    "        description='Weight x:',\n",
    "    )\n",
    "    weight_y_slider = widgets.FloatSlider(\n",
    "        value=0.5,\n",
    "        min=-1.0,\n",
    "        max=1.0,\n",
    "        step=0.01,\n",
    "        description='Weight y:',\n",
    "    )\n",
    "    bias_slider = widgets.FloatSlider(\n",
    "        value=0.0,\n",
    "        min=-1.0,\n",
    "        max=1.0,\n",
    "        step=0.01,\n",
    "        description='Bias:',\n",
    "    )\n",
    "    activation_function_list = widgets.Dropdown(\n",
    "    options={k:i for i,k in enumerate(activation_functions_dict.keys())},\n",
    "        value=1,\n",
    "        description='Activation function:',\n",
    "    )\n",
    "    return {'weight_x':weight_x_slider, 'weight_y':weight_y_slider, 'bias':bias_slider, 'activation_function_index':activation_function_list}"
   ],
   "outputs": [],
   "execution_count": null
  },
  {
   "cell_type": "markdown",
   "metadata": {
    "id": "67Asf3KG8crp"
   },
   "source": [
    "## Plot the perceptron output"
   ]
  },
  {
   "cell_type": "code",
   "execution_count": 9,
   "metadata": {
    "colab": {
     "base_uri": "https://localhost:8080/",
     "height": 675,
     "referenced_widgets": [
      "3b66bee3e78548ee84fb9da18aa4f5b8",
      "f8fb4ca38d9f44958835c9492ceee63f",
      "ff53de140f0a4235a25b90c1634a5221",
      "d01439a4e77843109a93672bc873fef5",
      "63943f6e0ac14d71a3cd32264600aa75",
      "bdeaf07d7987417db32b64f52c47169b",
      "9ff273168c754cc5989bae5952ed071a",
      "e32fd14e22214e25ac28ba58907a6d00",
      "45901d5e3bc44e6aaae12c42cc373030",
      "a0c2957d9bf344acabdd5c0fd08eb1e2",
      "bdf4817984e343abaf62c6c65047cf9b",
      "f1aa456e60f44faf87b18a9580cb1f76",
      "51db64ec0f8e4beaa923557b94d1551f",
      "382a43f21ffc4c3e8a9c672c5e5ce8e4",
      "dd8bfef08f92406e83bcbeadbc41b1c2",
      "4654bb68492c40788deb9b49be5a8ba0"
     ]
    },
    "id": "8_thLgxJ8crp",
    "outputId": "a48727ef-3ddc-40c1-8907-17173733fdfd"
   },
   "outputs": [
    {
     "output_type": "display_data",
     "data": {
      "text/plain": [
       "interactive(children=(FloatSlider(value=0.5, description='Weight x:', max=1.0, min=-1.0, step=0.01), FloatSlid…"
      ],
      "application/vnd.jupyter.widget-view+json": {
       "version_major": 2,
       "version_minor": 0,
       "model_id": "3b66bee3e78548ee84fb9da18aa4f5b8"
      }
     },
     "metadata": {}
    }
   ],
   "source": [
    "controls = create_controls()\n",
    "_= interact(plot_perceptron, **controls)"
   ]
  },
  {
   "cell_type": "markdown",
   "metadata": {
    "id": "pMYbT3t08crr"
   },
   "source": [
    "## Exercise"
   ]
  },
  {
   "cell_type": "markdown",
   "metadata": {
    "id": "2zAFr2JU8crr"
   },
   "source": [
    "- Use the sliders to change the weights of the perceptron and observe the effects on its output\n",
    "\n",
    "- Select different activation functions and observe the output of the perceptron for different weight configurations"
   ]
  }
 ],
 "metadata": {
  "kernelspec": {
   "display_name": "Python 3 (ipykernel)",
   "language": "python",
   "name": "python3"
  },
  "language_info": {
   "codemirror_mode": {
    "name": "ipython",
    "version": 3
   },
   "file_extension": ".py",
   "mimetype": "text/x-python",
   "name": "python",
   "nbconvert_exporter": "python",
   "pygments_lexer": "ipython3",
   "version": "3.10.2"
  },
  "widgets": {
   "application/vnd.jupyter.widget-state+json": {
    "3b66bee3e78548ee84fb9da18aa4f5b8": {
     "model_module": "@jupyter-widgets/controls",
     "model_name": "VBoxModel",
     "model_module_version": "1.5.0",
     "state": {
      "_dom_classes": [
       "widget-interact"
      ],
      "_model_module": "@jupyter-widgets/controls",
      "_model_module_version": "1.5.0",
      "_model_name": "VBoxModel",
      "_view_count": null,
      "_view_module": "@jupyter-widgets/controls",
      "_view_module_version": "1.5.0",
      "_view_name": "VBoxView",
      "box_style": "",
      "children": [
       "IPY_MODEL_f8fb4ca38d9f44958835c9492ceee63f",
       "IPY_MODEL_ff53de140f0a4235a25b90c1634a5221",
       "IPY_MODEL_d01439a4e77843109a93672bc873fef5",
       "IPY_MODEL_63943f6e0ac14d71a3cd32264600aa75",
       "IPY_MODEL_bdeaf07d7987417db32b64f52c47169b"
      ],
      "layout": "IPY_MODEL_9ff273168c754cc5989bae5952ed071a"
     }
    },
    "f8fb4ca38d9f44958835c9492ceee63f": {
     "model_module": "@jupyter-widgets/controls",
     "model_name": "FloatSliderModel",
     "model_module_version": "1.5.0",
     "state": {
      "_dom_classes": [],
      "_model_module": "@jupyter-widgets/controls",
      "_model_module_version": "1.5.0",
      "_model_name": "FloatSliderModel",
      "_view_count": null,
      "_view_module": "@jupyter-widgets/controls",
      "_view_module_version": "1.5.0",
      "_view_name": "FloatSliderView",
      "continuous_update": true,
      "description": "Weight x:",
      "description_tooltip": null,
      "disabled": false,
      "layout": "IPY_MODEL_e32fd14e22214e25ac28ba58907a6d00",
      "max": 1,
      "min": -1,
      "orientation": "horizontal",
      "readout": true,
      "readout_format": ".2f",
      "step": 0.01,
      "style": "IPY_MODEL_45901d5e3bc44e6aaae12c42cc373030",
      "value": -0.44
     }
    },
    "ff53de140f0a4235a25b90c1634a5221": {
     "model_module": "@jupyter-widgets/controls",
     "model_name": "FloatSliderModel",
     "model_module_version": "1.5.0",
     "state": {
      "_dom_classes": [],
      "_model_module": "@jupyter-widgets/controls",
      "_model_module_version": "1.5.0",
      "_model_name": "FloatSliderModel",
      "_view_count": null,
      "_view_module": "@jupyter-widgets/controls",
      "_view_module_version": "1.5.0",
      "_view_name": "FloatSliderView",
      "continuous_update": true,
      "description": "Weight y:",
      "description_tooltip": null,
      "disabled": false,
      "layout": "IPY_MODEL_a0c2957d9bf344acabdd5c0fd08eb1e2",
      "max": 1,
      "min": -1,
      "orientation": "horizontal",
      "readout": true,
      "readout_format": ".2f",
      "step": 0.01,
      "style": "IPY_MODEL_bdf4817984e343abaf62c6c65047cf9b",
      "value": -0.36
     }
    },
    "d01439a4e77843109a93672bc873fef5": {
     "model_module": "@jupyter-widgets/controls",
     "model_name": "FloatSliderModel",
     "model_module_version": "1.5.0",
     "state": {
      "_dom_classes": [],
      "_model_module": "@jupyter-widgets/controls",
      "_model_module_version": "1.5.0",
      "_model_name": "FloatSliderModel",
      "_view_count": null,
      "_view_module": "@jupyter-widgets/controls",
      "_view_module_version": "1.5.0",
      "_view_name": "FloatSliderView",
      "continuous_update": true,
      "description": "Bias:",
      "description_tooltip": null,
      "disabled": false,
      "layout": "IPY_MODEL_f1aa456e60f44faf87b18a9580cb1f76",
      "max": 1,
      "min": -1,
      "orientation": "horizontal",
      "readout": true,
      "readout_format": ".2f",
      "step": 0.01,
      "style": "IPY_MODEL_51db64ec0f8e4beaa923557b94d1551f",
      "value": 0.04
     }
    },
    "63943f6e0ac14d71a3cd32264600aa75": {
     "model_module": "@jupyter-widgets/controls",
     "model_name": "DropdownModel",
     "model_module_version": "1.5.0",
     "state": {
      "_dom_classes": [],
      "_model_module": "@jupyter-widgets/controls",
      "_model_module_version": "1.5.0",
      "_model_name": "DropdownModel",
      "_options_labels": [
       "Linear",
       "Sigmoid",
       "Hyperbolic tangent"
      ],
      "_view_count": null,
      "_view_module": "@jupyter-widgets/controls",
      "_view_module_version": "1.5.0",
      "_view_name": "DropdownView",
      "description": "Activation function:",
      "description_tooltip": null,
      "disabled": false,
      "index": 2,
      "layout": "IPY_MODEL_382a43f21ffc4c3e8a9c672c5e5ce8e4",
      "style": "IPY_MODEL_dd8bfef08f92406e83bcbeadbc41b1c2"
     }
    },
    "bdeaf07d7987417db32b64f52c47169b": {
     "model_module": "@jupyter-widgets/output",
     "model_name": "OutputModel",
     "model_module_version": "1.0.0",
     "state": {
      "_dom_classes": [],
      "_model_module": "@jupyter-widgets/output",
      "_model_module_version": "1.0.0",
      "_model_name": "OutputModel",
      "_view_count": null,
      "_view_module": "@jupyter-widgets/output",
      "_view_module_version": "1.0.0",
      "_view_name": "OutputView",
      "layout": "IPY_MODEL_4654bb68492c40788deb9b49be5a8ba0",
      "msg_id": "",
      "outputs": [
       {
        "output_type": "display_data",
        "data": {
         "text/plain": "<Figure size 800x600 with 2 Axes>",
         "image/png": "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\n"
        },
        "metadata": {}
       }
      ]
     }
    },
    "9ff273168c754cc5989bae5952ed071a": {
     "model_module": "@jupyter-widgets/base",
     "model_name": "LayoutModel",
     "model_module_version": "1.2.0",
     "state": {
      "_model_module": "@jupyter-widgets/base",
      "_model_module_version": "1.2.0",
      "_model_name": "LayoutModel",
      "_view_count": null,
      "_view_module": "@jupyter-widgets/base",
      "_view_module_version": "1.2.0",
      "_view_name": "LayoutView",
      "align_content": null,
      "align_items": null,
      "align_self": null,
      "border": null,
      "bottom": null,
      "display": null,
      "flex": null,
      "flex_flow": null,
      "grid_area": null,
      "grid_auto_columns": null,
      "grid_auto_flow": null,
      "grid_auto_rows": null,
      "grid_column": null,
      "grid_gap": null,
      "grid_row": null,
      "grid_template_areas": null,
      "grid_template_columns": null,
      "grid_template_rows": null,
      "height": null,
      "justify_content": null,
      "justify_items": null,
      "left": null,
      "margin": null,
      "max_height": null,
      "max_width": null,
      "min_height": null,
      "min_width": null,
      "object_fit": null,
      "object_position": null,
      "order": null,
      "overflow": null,
      "overflow_x": null,
      "overflow_y": null,
      "padding": null,
      "right": null,
      "top": null,
      "visibility": null,
      "width": null
     }
    },
    "e32fd14e22214e25ac28ba58907a6d00": {
     "model_module": "@jupyter-widgets/base",
     "model_name": "LayoutModel",
     "model_module_version": "1.2.0",
     "state": {
      "_model_module": "@jupyter-widgets/base",
      "_model_module_version": "1.2.0",
      "_model_name": "LayoutModel",
      "_view_count": null,
      "_view_module": "@jupyter-widgets/base",
      "_view_module_version": "1.2.0",
      "_view_name": "LayoutView",
      "align_content": null,
      "align_items": null,
      "align_self": null,
      "border": null,
      "bottom": null,
      "display": null,
      "flex": null,
      "flex_flow": null,
      "grid_area": null,
      "grid_auto_columns": null,
      "grid_auto_flow": null,
      "grid_auto_rows": null,
      "grid_column": null,
      "grid_gap": null,
      "grid_row": null,
      "grid_template_areas": null,
      "grid_template_columns": null,
      "grid_template_rows": null,
      "height": null,
      "justify_content": null,
      "justify_items": null,
      "left": null,
      "margin": null,
      "max_height": null,
      "max_width": null,
      "min_height": null,
      "min_width": null,
      "object_fit": null,
      "object_position": null,
      "order": null,
      "overflow": null,
      "overflow_x": null,
      "overflow_y": null,
      "padding": null,
      "right": null,
      "top": null,
      "visibility": null,
      "width": null
     }
    },
    "45901d5e3bc44e6aaae12c42cc373030": {
     "model_module": "@jupyter-widgets/controls",
     "model_name": "SliderStyleModel",
     "model_module_version": "1.5.0",
     "state": {
      "_model_module": "@jupyter-widgets/controls",
      "_model_module_version": "1.5.0",
      "_model_name": "SliderStyleModel",
      "_view_count": null,
      "_view_module": "@jupyter-widgets/base",
      "_view_module_version": "1.2.0",
      "_view_name": "StyleView",
      "description_width": "",
      "handle_color": null
     }
    },
    "a0c2957d9bf344acabdd5c0fd08eb1e2": {
     "model_module": "@jupyter-widgets/base",
     "model_name": "LayoutModel",
     "model_module_version": "1.2.0",
     "state": {
      "_model_module": "@jupyter-widgets/base",
      "_model_module_version": "1.2.0",
      "_model_name": "LayoutModel",
      "_view_count": null,
      "_view_module": "@jupyter-widgets/base",
      "_view_module_version": "1.2.0",
      "_view_name": "LayoutView",
      "align_content": null,
      "align_items": null,
      "align_self": null,
      "border": null,
      "bottom": null,
      "display": null,
      "flex": null,
      "flex_flow": null,
      "grid_area": null,
      "grid_auto_columns": null,
      "grid_auto_flow": null,
      "grid_auto_rows": null,
      "grid_column": null,
      "grid_gap": null,
      "grid_row": null,
      "grid_template_areas": null,
      "grid_template_columns": null,
      "grid_template_rows": null,
      "height": null,
      "justify_content": null,
      "justify_items": null,
      "left": null,
      "margin": null,
      "max_height": null,
      "max_width": null,
      "min_height": null,
      "min_width": null,
      "object_fit": null,
      "object_position": null,
      "order": null,
      "overflow": null,
      "overflow_x": null,
      "overflow_y": null,
      "padding": null,
      "right": null,
      "top": null,
      "visibility": null,
      "width": null
     }
    },
    "bdf4817984e343abaf62c6c65047cf9b": {
     "model_module": "@jupyter-widgets/controls",
     "model_name": "SliderStyleModel",
     "model_module_version": "1.5.0",
     "state": {
      "_model_module": "@jupyter-widgets/controls",
      "_model_module_version": "1.5.0",
      "_model_name": "SliderStyleModel",
      "_view_count": null,
      "_view_module": "@jupyter-widgets/base",
      "_view_module_version": "1.2.0",
      "_view_name": "StyleView",
      "description_width": "",
      "handle_color": null
     }
    },
    "f1aa456e60f44faf87b18a9580cb1f76": {
     "model_module": "@jupyter-widgets/base",
     "model_name": "LayoutModel",
     "model_module_version": "1.2.0",
     "state": {
      "_model_module": "@jupyter-widgets/base",
      "_model_module_version": "1.2.0",
      "_model_name": "LayoutModel",
      "_view_count": null,
      "_view_module": "@jupyter-widgets/base",
      "_view_module_version": "1.2.0",
      "_view_name": "LayoutView",
      "align_content": null,
      "align_items": null,
      "align_self": null,
      "border": null,
      "bottom": null,
      "display": null,
      "flex": null,
      "flex_flow": null,
      "grid_area": null,
      "grid_auto_columns": null,
      "grid_auto_flow": null,
      "grid_auto_rows": null,
      "grid_column": null,
      "grid_gap": null,
      "grid_row": null,
      "grid_template_areas": null,
      "grid_template_columns": null,
      "grid_template_rows": null,
      "height": null,
      "justify_content": null,
      "justify_items": null,
      "left": null,
      "margin": null,
      "max_height": null,
      "max_width": null,
      "min_height": null,
      "min_width": null,
      "object_fit": null,
      "object_position": null,
      "order": null,
      "overflow": null,
      "overflow_x": null,
      "overflow_y": null,
      "padding": null,
      "right": null,
      "top": null,
      "visibility": null,
      "width": null
     }
    },
    "51db64ec0f8e4beaa923557b94d1551f": {
     "model_module": "@jupyter-widgets/controls",
     "model_name": "SliderStyleModel",
     "model_module_version": "1.5.0",
     "state": {
      "_model_module": "@jupyter-widgets/controls",
      "_model_module_version": "1.5.0",
      "_model_name": "SliderStyleModel",
      "_view_count": null,
      "_view_module": "@jupyter-widgets/base",
      "_view_module_version": "1.2.0",
      "_view_name": "StyleView",
      "description_width": "",
      "handle_color": null
     }
    },
    "382a43f21ffc4c3e8a9c672c5e5ce8e4": {
     "model_module": "@jupyter-widgets/base",
     "model_name": "LayoutModel",
     "model_module_version": "1.2.0",
     "state": {
      "_model_module": "@jupyter-widgets/base",
      "_model_module_version": "1.2.0",
      "_model_name": "LayoutModel",
      "_view_count": null,
      "_view_module": "@jupyter-widgets/base",
      "_view_module_version": "1.2.0",
      "_view_name": "LayoutView",
      "align_content": null,
      "align_items": null,
      "align_self": null,
      "border": null,
      "bottom": null,
      "display": null,
      "flex": null,
      "flex_flow": null,
      "grid_area": null,
      "grid_auto_columns": null,
      "grid_auto_flow": null,
      "grid_auto_rows": null,
      "grid_column": null,
      "grid_gap": null,
      "grid_row": null,
      "grid_template_areas": null,
      "grid_template_columns": null,
      "grid_template_rows": null,
      "height": null,
      "justify_content": null,
      "justify_items": null,
      "left": null,
      "margin": null,
      "max_height": null,
      "max_width": null,
      "min_height": null,
      "min_width": null,
      "object_fit": null,
      "object_position": null,
      "order": null,
      "overflow": null,
      "overflow_x": null,
      "overflow_y": null,
      "padding": null,
      "right": null,
      "top": null,
      "visibility": null,
      "width": null
     }
    },
    "dd8bfef08f92406e83bcbeadbc41b1c2": {
     "model_module": "@jupyter-widgets/controls",
     "model_name": "DescriptionStyleModel",
     "model_module_version": "1.5.0",
     "state": {
      "_model_module": "@jupyter-widgets/controls",
      "_model_module_version": "1.5.0",
      "_model_name": "DescriptionStyleModel",
      "_view_count": null,
      "_view_module": "@jupyter-widgets/base",
      "_view_module_version": "1.2.0",
      "_view_name": "StyleView",
      "description_width": ""
     }
    },
    "4654bb68492c40788deb9b49be5a8ba0": {
     "model_module": "@jupyter-widgets/base",
     "model_name": "LayoutModel",
     "model_module_version": "1.2.0",
     "state": {
      "_model_module": "@jupyter-widgets/base",
      "_model_module_version": "1.2.0",
      "_model_name": "LayoutModel",
      "_view_count": null,
      "_view_module": "@jupyter-widgets/base",
      "_view_module_version": "1.2.0",
      "_view_name": "LayoutView",
      "align_content": null,
      "align_items": null,
      "align_self": null,
      "border": null,
      "bottom": null,
      "display": null,
      "flex": null,
      "flex_flow": null,
      "grid_area": null,
      "grid_auto_columns": null,
      "grid_auto_flow": null,
      "grid_auto_rows": null,
      "grid_column": null,
      "grid_gap": null,
      "grid_row": null,
      "grid_template_areas": null,
      "grid_template_columns": null,
      "grid_template_rows": null,
      "height": null,
      "justify_content": null,
      "justify_items": null,
      "left": null,
      "margin": null,
      "max_height": null,
      "max_width": null,
      "min_height": null,
      "min_width": null,
      "object_fit": null,
      "object_position": null,
      "order": null,
      "overflow": null,
      "overflow_x": null,
      "overflow_y": null,
      "padding": null,
      "right": null,
      "top": null,
      "visibility": null,
      "width": null
     }
    }
   }
  },
  "colab": {
   "provenance": []
  }
 },
 "nbformat": 4,
 "nbformat_minor": 0
}
